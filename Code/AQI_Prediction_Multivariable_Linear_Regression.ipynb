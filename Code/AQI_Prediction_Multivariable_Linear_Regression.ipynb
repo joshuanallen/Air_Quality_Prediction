{
  "nbformat": 4,
  "nbformat_minor": 0,
  "metadata": {
    "colab": {
      "name": "AQI_Prediction_Multivariable_Linear_Regression",
      "provenance": [],
      "collapsed_sections": []
    },
    "kernelspec": {
      "name": "python3",
      "display_name": "Python 3"
    },
    "language_info": {
      "name": "python"
    }
  },
  "cells": [
    {
      "cell_type": "code",
      "metadata": {
        "id": "T7HWmo5jyBN4"
      },
      "source": [
        "import pandas as pd\n",
        "import matplotlib.pyplot as plt\n",
        "import sklearn as skl\n",
        "import tensorflow as tf\n",
        "from sklearn.preprocessing import StandardScaler, MinMaxScaler\n",
        "from sklearn.linear_model import LinearRegression\n",
        "import numpy as np\n"
      ],
      "execution_count": 1,
      "outputs": []
    },
    {
      "cell_type": "markdown",
      "metadata": {
        "id": "7ryKxerkyPWy"
      },
      "source": [
        "Load in dataset"
      ]
    },
    {
      "cell_type": "markdown",
      "metadata": {
        "id": "oeyY0vzr9Xep"
      },
      "source": [
        "INSERT David's SQL connection here"
      ]
    },
    {
      "cell_type": "code",
      "metadata": {
        "colab": {
          "base_uri": "https://localhost:8080/",
          "height": 221
        },
        "id": "phSwL1xfyS0F",
        "outputId": "6761297b-ca2a-45db-f6cf-72ffa196798c"
      },
      "source": [
        "data_df = pd.read_csv(\"https://raw.githubusercontent.com/joshuanallen/Air_Quality_Prediction/main/clean_data.csv\")\n",
        "data_df.head()"
      ],
      "execution_count": 2,
      "outputs": [
        {
          "output_type": "execute_result",
          "data": {
            "text/html": [
              "<div>\n",
              "<style scoped>\n",
              "    .dataframe tbody tr th:only-of-type {\n",
              "        vertical-align: middle;\n",
              "    }\n",
              "\n",
              "    .dataframe tbody tr th {\n",
              "        vertical-align: top;\n",
              "    }\n",
              "\n",
              "    .dataframe thead th {\n",
              "        text-align: right;\n",
              "    }\n",
              "</style>\n",
              "<table border=\"1\" class=\"dataframe\">\n",
              "  <thead>\n",
              "    <tr style=\"text-align: right;\">\n",
              "      <th></th>\n",
              "      <th>Unnamed: 0</th>\n",
              "      <th>Census Tract</th>\n",
              "      <th>Total Population</th>\n",
              "      <th>ZIP</th>\n",
              "      <th>Longitude</th>\n",
              "      <th>Latitude</th>\n",
              "      <th>Ozone</th>\n",
              "      <th>PM2.5</th>\n",
              "      <th>Diesel PM</th>\n",
              "      <th>Pesticides</th>\n",
              "      <th>Tox. Release</th>\n",
              "      <th>Traffic</th>\n",
              "      <th>Asthma</th>\n",
              "      <th>Low Birth Weight</th>\n",
              "      <th>Cardiovascular Disease</th>\n",
              "      <th>Poverty</th>\n",
              "      <th>Unemployment</th>\n",
              "    </tr>\n",
              "  </thead>\n",
              "  <tbody>\n",
              "    <tr>\n",
              "      <th>0</th>\n",
              "      <td>0</td>\n",
              "      <td>6019001100</td>\n",
              "      <td>3174</td>\n",
              "      <td>93706</td>\n",
              "      <td>-119.781696</td>\n",
              "      <td>36.709695</td>\n",
              "      <td>0.065</td>\n",
              "      <td>15.40</td>\n",
              "      <td>48.524</td>\n",
              "      <td>2.75</td>\n",
              "      <td>18551.957190</td>\n",
              "      <td>909.14</td>\n",
              "      <td>131.64</td>\n",
              "      <td>7.44</td>\n",
              "      <td>14.13</td>\n",
              "      <td>76.3</td>\n",
              "      <td>17.6</td>\n",
              "    </tr>\n",
              "    <tr>\n",
              "      <th>1</th>\n",
              "      <td>1</td>\n",
              "      <td>6071001600</td>\n",
              "      <td>6133</td>\n",
              "      <td>91761</td>\n",
              "      <td>-117.618013</td>\n",
              "      <td>34.057780</td>\n",
              "      <td>0.062</td>\n",
              "      <td>13.31</td>\n",
              "      <td>38.556</td>\n",
              "      <td>1.37</td>\n",
              "      <td>7494.236622</td>\n",
              "      <td>782.26</td>\n",
              "      <td>60.66</td>\n",
              "      <td>7.04</td>\n",
              "      <td>12.94</td>\n",
              "      <td>72.5</td>\n",
              "      <td>12.3</td>\n",
              "    </tr>\n",
              "    <tr>\n",
              "      <th>2</th>\n",
              "      <td>2</td>\n",
              "      <td>6019000200</td>\n",
              "      <td>3167</td>\n",
              "      <td>93706</td>\n",
              "      <td>-119.805504</td>\n",
              "      <td>36.735491</td>\n",
              "      <td>0.062</td>\n",
              "      <td>15.40</td>\n",
              "      <td>47.445</td>\n",
              "      <td>3.03</td>\n",
              "      <td>12454.948410</td>\n",
              "      <td>576.52</td>\n",
              "      <td>142.12</td>\n",
              "      <td>10.16</td>\n",
              "      <td>14.96</td>\n",
              "      <td>86.8</td>\n",
              "      <td>16.1</td>\n",
              "    </tr>\n",
              "    <tr>\n",
              "      <th>3</th>\n",
              "      <td>3</td>\n",
              "      <td>6077000801</td>\n",
              "      <td>6692</td>\n",
              "      <td>95203</td>\n",
              "      <td>-121.314524</td>\n",
              "      <td>37.940517</td>\n",
              "      <td>0.046</td>\n",
              "      <td>12.54</td>\n",
              "      <td>24.117</td>\n",
              "      <td>12.93</td>\n",
              "      <td>2387.782922</td>\n",
              "      <td>1305.01</td>\n",
              "      <td>142.17</td>\n",
              "      <td>6.23</td>\n",
              "      <td>14.72</td>\n",
              "      <td>61.3</td>\n",
              "      <td>19.6</td>\n",
              "    </tr>\n",
              "    <tr>\n",
              "      <th>4</th>\n",
              "      <td>4</td>\n",
              "      <td>6019001500</td>\n",
              "      <td>2206</td>\n",
              "      <td>93725</td>\n",
              "      <td>-119.717843</td>\n",
              "      <td>36.681600</td>\n",
              "      <td>0.065</td>\n",
              "      <td>15.40</td>\n",
              "      <td>18.846</td>\n",
              "      <td>3518.41</td>\n",
              "      <td>21790.706720</td>\n",
              "      <td>435.16</td>\n",
              "      <td>90.48</td>\n",
              "      <td>4.50</td>\n",
              "      <td>12.82</td>\n",
              "      <td>66.4</td>\n",
              "      <td>18.6</td>\n",
              "    </tr>\n",
              "  </tbody>\n",
              "</table>\n",
              "</div>"
            ],
            "text/plain": [
              "   Unnamed: 0  Census Tract  ...  Poverty  Unemployment\n",
              "0           0    6019001100  ...     76.3          17.6\n",
              "1           1    6071001600  ...     72.5          12.3\n",
              "2           2    6019000200  ...     86.8          16.1\n",
              "3           3    6077000801  ...     61.3          19.6\n",
              "4           4    6019001500  ...     66.4          18.6\n",
              "\n",
              "[5 rows x 17 columns]"
            ]
          },
          "metadata": {
            "tags": []
          },
          "execution_count": 2
        }
      ]
    },
    {
      "cell_type": "markdown",
      "metadata": {
        "id": "Cq1xxrLSjEj1"
      },
      "source": [
        "Remove location data from dataset"
      ]
    },
    {
      "cell_type": "code",
      "metadata": {
        "colab": {
          "base_uri": "https://localhost:8080/",
          "height": 204
        },
        "id": "BfftH4P3zqCh",
        "outputId": "a0bdb054-6caf-464c-ce07-bdf3e0c50b15"
      },
      "source": [
        "drop_loc_data_df = data_df[[\"Ozone\", \"PM2.5\", \"Diesel PM\", \"Pesticides\", \"Tox. Release\", \"Traffic\", \"Asthma\", \"Low Birth Weight\", \"Cardiovascular Disease\", \"Poverty\", \"Unemployment\"]]\n",
        "drop_loc_data_df.head()"
      ],
      "execution_count": 3,
      "outputs": [
        {
          "output_type": "execute_result",
          "data": {
            "text/html": [
              "<div>\n",
              "<style scoped>\n",
              "    .dataframe tbody tr th:only-of-type {\n",
              "        vertical-align: middle;\n",
              "    }\n",
              "\n",
              "    .dataframe tbody tr th {\n",
              "        vertical-align: top;\n",
              "    }\n",
              "\n",
              "    .dataframe thead th {\n",
              "        text-align: right;\n",
              "    }\n",
              "</style>\n",
              "<table border=\"1\" class=\"dataframe\">\n",
              "  <thead>\n",
              "    <tr style=\"text-align: right;\">\n",
              "      <th></th>\n",
              "      <th>Ozone</th>\n",
              "      <th>PM2.5</th>\n",
              "      <th>Diesel PM</th>\n",
              "      <th>Pesticides</th>\n",
              "      <th>Tox. Release</th>\n",
              "      <th>Traffic</th>\n",
              "      <th>Asthma</th>\n",
              "      <th>Low Birth Weight</th>\n",
              "      <th>Cardiovascular Disease</th>\n",
              "      <th>Poverty</th>\n",
              "      <th>Unemployment</th>\n",
              "    </tr>\n",
              "  </thead>\n",
              "  <tbody>\n",
              "    <tr>\n",
              "      <th>0</th>\n",
              "      <td>0.065</td>\n",
              "      <td>15.40</td>\n",
              "      <td>48.524</td>\n",
              "      <td>2.75</td>\n",
              "      <td>18551.957190</td>\n",
              "      <td>909.14</td>\n",
              "      <td>131.64</td>\n",
              "      <td>7.44</td>\n",
              "      <td>14.13</td>\n",
              "      <td>76.3</td>\n",
              "      <td>17.6</td>\n",
              "    </tr>\n",
              "    <tr>\n",
              "      <th>1</th>\n",
              "      <td>0.062</td>\n",
              "      <td>13.31</td>\n",
              "      <td>38.556</td>\n",
              "      <td>1.37</td>\n",
              "      <td>7494.236622</td>\n",
              "      <td>782.26</td>\n",
              "      <td>60.66</td>\n",
              "      <td>7.04</td>\n",
              "      <td>12.94</td>\n",
              "      <td>72.5</td>\n",
              "      <td>12.3</td>\n",
              "    </tr>\n",
              "    <tr>\n",
              "      <th>2</th>\n",
              "      <td>0.062</td>\n",
              "      <td>15.40</td>\n",
              "      <td>47.445</td>\n",
              "      <td>3.03</td>\n",
              "      <td>12454.948410</td>\n",
              "      <td>576.52</td>\n",
              "      <td>142.12</td>\n",
              "      <td>10.16</td>\n",
              "      <td>14.96</td>\n",
              "      <td>86.8</td>\n",
              "      <td>16.1</td>\n",
              "    </tr>\n",
              "    <tr>\n",
              "      <th>3</th>\n",
              "      <td>0.046</td>\n",
              "      <td>12.54</td>\n",
              "      <td>24.117</td>\n",
              "      <td>12.93</td>\n",
              "      <td>2387.782922</td>\n",
              "      <td>1305.01</td>\n",
              "      <td>142.17</td>\n",
              "      <td>6.23</td>\n",
              "      <td>14.72</td>\n",
              "      <td>61.3</td>\n",
              "      <td>19.6</td>\n",
              "    </tr>\n",
              "    <tr>\n",
              "      <th>4</th>\n",
              "      <td>0.065</td>\n",
              "      <td>15.40</td>\n",
              "      <td>18.846</td>\n",
              "      <td>3518.41</td>\n",
              "      <td>21790.706720</td>\n",
              "      <td>435.16</td>\n",
              "      <td>90.48</td>\n",
              "      <td>4.50</td>\n",
              "      <td>12.82</td>\n",
              "      <td>66.4</td>\n",
              "      <td>18.6</td>\n",
              "    </tr>\n",
              "  </tbody>\n",
              "</table>\n",
              "</div>"
            ],
            "text/plain": [
              "   Ozone  PM2.5  Diesel PM  ...  Cardiovascular Disease  Poverty  Unemployment\n",
              "0  0.065  15.40     48.524  ...                   14.13     76.3          17.6\n",
              "1  0.062  13.31     38.556  ...                   12.94     72.5          12.3\n",
              "2  0.062  15.40     47.445  ...                   14.96     86.8          16.1\n",
              "3  0.046  12.54     24.117  ...                   14.72     61.3          19.6\n",
              "4  0.065  15.40     18.846  ...                   12.82     66.4          18.6\n",
              "\n",
              "[5 rows x 11 columns]"
            ]
          },
          "metadata": {
            "tags": []
          },
          "execution_count": 3
        }
      ]
    },
    {
      "cell_type": "markdown",
      "metadata": {
        "id": "50bReXM7jJz8"
      },
      "source": [
        "Split dataset into feature and target variable datasets\n",
        "\n",
        "Features:\n",
        "1. Ozone\n",
        "2. PM2.5\n",
        "3. Diesel PM\n",
        "4. Pesticides\n",
        "5. Tox. Release\n",
        "6. Traffic\n",
        "\n",
        "We chose 5 target variables to build predictive models\n",
        "\n",
        "Targets:\n",
        "1. Asthma\n",
        "2. Low Birth Weight\n",
        "3. Cardiovascular Disease\n",
        "4. Poverty\n",
        "5. Unemployment\n",
        "\n"
      ]
    },
    {
      "cell_type": "code",
      "metadata": {
        "id": "BSIG39qozzlT"
      },
      "source": [
        "X_air_data = drop_loc_data_df[[\"Ozone\", \"PM2.5\", \"Diesel PM\", \"Pesticides\", \"Tox. Release\", \"Traffic\"]]\n",
        "\n",
        "y_Asthma = drop_loc_data_df[\"Asthma\"]\n",
        "y_Low_birth_weight = drop_loc_data_df[\"Low Birth Weight\"]\n",
        "y_Cardiovascular_disease = drop_loc_data_df[\"Cardiovascular Disease\"]\n",
        "y_Poverty = drop_loc_data_df[\"Poverty\"]\n",
        "y_unemployment = drop_loc_data_df[\"Unemployment\"]"
      ],
      "execution_count": 4,
      "outputs": []
    },
    {
      "cell_type": "markdown",
      "metadata": {
        "id": "sQJydo20CVYi"
      },
      "source": [
        "Scale feature data using `StandardScaler()` on X_air_data\n"
      ]
    },
    {
      "cell_type": "code",
      "metadata": {
        "id": "on-m_msg781F",
        "colab": {
          "base_uri": "https://localhost:8080/",
          "height": 204
        },
        "outputId": "1b4e5fff-103e-4640-902c-a29a71fa0a70"
      },
      "source": [
        "# Scale X data\n",
        "\n",
        "# Create the StandardScaler instance\n",
        "scaler = StandardScaler()\n",
        "# Fit the StandardScaler\n",
        "scaler.fit(X_air_data)\n",
        "# Scale the data\n",
        "scaled_data = scaler.transform(X_air_data)\n",
        "# Create a DataFrame with the scaled data\n",
        "transformed_scaled_data = pd.DataFrame(scaled_data, columns=X_air_data.columns)\n",
        "transformed_scaled_data.head()"
      ],
      "execution_count": 5,
      "outputs": [
        {
          "output_type": "execute_result",
          "data": {
            "text/html": [
              "<div>\n",
              "<style scoped>\n",
              "    .dataframe tbody tr th:only-of-type {\n",
              "        vertical-align: middle;\n",
              "    }\n",
              "\n",
              "    .dataframe tbody tr th {\n",
              "        vertical-align: top;\n",
              "    }\n",
              "\n",
              "    .dataframe thead th {\n",
              "        text-align: right;\n",
              "    }\n",
              "</style>\n",
              "<table border=\"1\" class=\"dataframe\">\n",
              "  <thead>\n",
              "    <tr style=\"text-align: right;\">\n",
              "      <th></th>\n",
              "      <th>Ozone</th>\n",
              "      <th>PM2.5</th>\n",
              "      <th>Diesel PM</th>\n",
              "      <th>Pesticides</th>\n",
              "      <th>Tox. Release</th>\n",
              "      <th>Traffic</th>\n",
              "    </tr>\n",
              "  </thead>\n",
              "  <tbody>\n",
              "    <tr>\n",
              "      <th>0</th>\n",
              "      <td>1.719711</td>\n",
              "      <td>1.938479</td>\n",
              "      <td>1.771575</td>\n",
              "      <td>-0.112599</td>\n",
              "      <td>1.213060</td>\n",
              "      <td>-0.048368</td>\n",
              "    </tr>\n",
              "    <tr>\n",
              "      <th>1</th>\n",
              "      <td>1.426149</td>\n",
              "      <td>1.124842</td>\n",
              "      <td>1.166299</td>\n",
              "      <td>-0.113088</td>\n",
              "      <td>0.339039</td>\n",
              "      <td>-0.187257</td>\n",
              "    </tr>\n",
              "    <tr>\n",
              "      <th>2</th>\n",
              "      <td>1.426149</td>\n",
              "      <td>1.938479</td>\n",
              "      <td>1.706056</td>\n",
              "      <td>-0.112500</td>\n",
              "      <td>0.731142</td>\n",
              "      <td>-0.412470</td>\n",
              "    </tr>\n",
              "    <tr>\n",
              "      <th>3</th>\n",
              "      <td>-0.139510</td>\n",
              "      <td>0.825081</td>\n",
              "      <td>0.289536</td>\n",
              "      <td>-0.108992</td>\n",
              "      <td>-0.064584</td>\n",
              "      <td>0.384971</td>\n",
              "    </tr>\n",
              "    <tr>\n",
              "      <th>4</th>\n",
              "      <td>1.719711</td>\n",
              "      <td>1.938479</td>\n",
              "      <td>-0.030529</td>\n",
              "      <td>1.133154</td>\n",
              "      <td>1.469056</td>\n",
              "      <td>-0.567210</td>\n",
              "    </tr>\n",
              "  </tbody>\n",
              "</table>\n",
              "</div>"
            ],
            "text/plain": [
              "      Ozone     PM2.5  Diesel PM  Pesticides  Tox. Release   Traffic\n",
              "0  1.719711  1.938479   1.771575   -0.112599      1.213060 -0.048368\n",
              "1  1.426149  1.124842   1.166299   -0.113088      0.339039 -0.187257\n",
              "2  1.426149  1.938479   1.706056   -0.112500      0.731142 -0.412470\n",
              "3 -0.139510  0.825081   0.289536   -0.108992     -0.064584  0.384971\n",
              "4  1.719711  1.938479  -0.030529    1.133154      1.469056 -0.567210"
            ]
          },
          "metadata": {
            "tags": []
          },
          "execution_count": 5
        }
      ]
    },
    {
      "cell_type": "markdown",
      "metadata": {
        "id": "8uXS32W2kJ8T"
      },
      "source": [
        "Create Scaled feature data"
      ]
    },
    {
      "cell_type": "code",
      "metadata": {
        "id": "JTDuY3HTkPAE"
      },
      "source": [
        "X_air_data_scaled = transformed_scaled_data[[\"Ozone\", \"PM2.5\", \"Diesel PM\", \"Pesticides\", \"Tox. Release\", \"Traffic\"]]\n",
        "\n",
        "# X_ozone_scaled = X_air_data_scaled[\"Ozone\"].values.reshape(-1,1)\n",
        "# X_pm25_scaled = X_air_data_scaled[\"PM2.5\"].values.reshape(-1,1)\n",
        "# X_diesel_pm_scaled = X_air_data_scaled[\"Diesel PM\"].values.reshape(-1,1)\n",
        "# X_pesticides_scaled = X_air_data_scaled[\"Pesticides\"].values.reshape(-1,1)\n",
        "# X_tox_release_scaled = X_air_data_scaled[\"Tox. Release\"].values.reshape(-1,1)\n",
        "# X_traffic_scaled = X_air_data_scaled[\"Traffic\"].values.reshape(-1,1)"
      ],
      "execution_count": 6,
      "outputs": []
    },
    {
      "cell_type": "markdown",
      "metadata": {
        "id": "vNI6BQxakA5S"
      },
      "source": [
        "Build regression models for all 5 target variables"
      ]
    },
    {
      "cell_type": "markdown",
      "metadata": {
        "id": "GpTBlQqUiWBW"
      },
      "source": [
        "**Asthma** Linear Regression Model"
      ]
    },
    {
      "cell_type": "code",
      "metadata": {
        "colab": {
          "base_uri": "https://localhost:8080/"
        },
        "id": "W8Z2ub5zk4L8",
        "outputId": "e094f643-9386-48ff-85d5-b31ceb2a20ce"
      },
      "source": [
        "X = X_air_data_scaled\n",
        "y = y_Asthma\n",
        "\n",
        "model = LinearRegression()\n",
        "model.fit(X, y)\n",
        "\n",
        "accuracy = model.score(X,y)\n",
        "coefficients = model.coef_\n",
        "intercept = model.intercept_\n",
        "\n",
        "print(f\"Ozone coefficient: {coefficients[0]:.3f}\")\n",
        "print(f\"PM 2.5 coefficient: {coefficients[1]:.3f}\")\n",
        "print(f\"Diesel PM coefficient: {coefficients[2]:.3f}\")\n",
        "print(f\"Pesticides coefficient: {coefficients[3]:.3f}\")\n",
        "print(f\"Tox. Release coefficient: {coefficients[4]:.3f}\")\n",
        "print(f\"Traffic coefficient: {coefficients[5]:.3f}\")\n",
        "print(f\"Y-Intercept: {intercept:.3f}\")\n",
        "print(f\"R-square: {accuracy}\")"
      ],
      "execution_count": 7,
      "outputs": [
        {
          "output_type": "stream",
          "text": [
            "Ozone coefficient: 3.309\n",
            "PM 2.5 coefficient: 0.267\n",
            "Diesel PM coefficient: 6.852\n",
            "Pesticides coefficient: 0.234\n",
            "Tox. Release coefficient: -1.571\n",
            "Traffic coefficient: -1.869\n",
            "Y-Intercept: 52.504\n",
            "R-square: 0.05411954503733396\n"
          ],
          "name": "stdout"
        }
      ]
    },
    {
      "cell_type": "markdown",
      "metadata": {
        "id": "9D_Qd7iWieA-"
      },
      "source": [
        "**Low Birth Weight** Linear Regression Model"
      ]
    },
    {
      "cell_type": "code",
      "metadata": {
        "colab": {
          "base_uri": "https://localhost:8080/"
        },
        "id": "LxdFmF-fI45r",
        "outputId": "94d2bcce-a23e-447e-a4c5-e8dfb4f579a3"
      },
      "source": [
        "X = X_air_data_scaled\n",
        "y = y_Low_birth_weight\n",
        "\n",
        "model = LinearRegression()\n",
        "model.fit(X, y)\n",
        "\n",
        "accuracy = model.score(X,y)\n",
        "coefficients = model.coef_\n",
        "intercept = model.intercept_\n",
        "\n",
        "print(f\"Ozone coefficient: {coefficients[0]:.3f}\")\n",
        "print(f\"PM 2.5 coefficient: {coefficients[1]:.3f}\")\n",
        "print(f\"Diesel PM coefficient: {coefficients[2]:.3f}\")\n",
        "print(f\"Pesticides coefficient: {coefficients[3]:.3f}\")\n",
        "print(f\"Tox. Release coefficient: {coefficients[4]:.3f}\")\n",
        "print(f\"Traffic coefficient: {coefficients[5]:.3f}\")\n",
        "print(f\"Y-Intercept: {intercept:.3f}\")\n",
        "print(f\"R-square: {accuracy}\")"
      ],
      "execution_count": 8,
      "outputs": [
        {
          "output_type": "stream",
          "text": [
            "Ozone coefficient: 0.151\n",
            "PM 2.5 coefficient: 0.148\n",
            "Diesel PM coefficient: 0.251\n",
            "Pesticides coefficient: -0.003\n",
            "Tox. Release coefficient: -0.016\n",
            "Traffic coefficient: 0.051\n",
            "Y-Intercept: 4.981\n",
            "R-square: 0.055828417853251655\n"
          ],
          "name": "stdout"
        }
      ]
    },
    {
      "cell_type": "markdown",
      "metadata": {
        "id": "Je9jF1JximbZ"
      },
      "source": [
        "**Cardiovascular Disease** Linear Regression Model"
      ]
    },
    {
      "cell_type": "code",
      "metadata": {
        "colab": {
          "base_uri": "https://localhost:8080/"
        },
        "id": "JluBnrotJBZY",
        "outputId": "7fd88c7d-51fd-4416-a0ea-f779493b6031"
      },
      "source": [
        "X = X_air_data_scaled\n",
        "y = y_Cardiovascular_disease\n",
        "\n",
        "model = LinearRegression()\n",
        "model.fit(X, y)\n",
        "\n",
        "accuracy = model.score(X,y)\n",
        "coefficients = model.coef_\n",
        "intercept = model.intercept_\n",
        "\n",
        "print(f\"Ozone coefficient: {coefficients[0]:.3f}\")\n",
        "print(f\"PM 2.5 coefficient: {coefficients[1]:.3f}\")\n",
        "print(f\"Diesel PM coefficient: {coefficients[2]:.3f}\")\n",
        "print(f\"Pesticides coefficient: {coefficients[3]:.3f}\")\n",
        "print(f\"Tox. Release coefficient: {coefficients[4]:.3f}\")\n",
        "print(f\"Traffic coefficient: {coefficients[5]:.3f}\")\n",
        "print(f\"Y-Intercept: {intercept:.3f}\")\n",
        "print(f\"R-square: {accuracy}\")"
      ],
      "execution_count": 9,
      "outputs": [
        {
          "output_type": "stream",
          "text": [
            "Ozone coefficient: 1.277\n",
            "PM 2.5 coefficient: -0.111\n",
            "Diesel PM coefficient: 0.234\n",
            "Pesticides coefficient: 0.011\n",
            "Tox. Release coefficient: -0.047\n",
            "Traffic coefficient: -0.141\n",
            "Y-Intercept: 8.320\n",
            "R-square: 0.17137509930493577\n"
          ],
          "name": "stdout"
        }
      ]
    },
    {
      "cell_type": "markdown",
      "metadata": {
        "id": "FJWEDysnisVQ"
      },
      "source": [
        "**Poverty** Linear Regression Model"
      ]
    },
    {
      "cell_type": "code",
      "metadata": {
        "colab": {
          "base_uri": "https://localhost:8080/"
        },
        "id": "j1v-za7qJHON",
        "outputId": "827950a5-9cb2-4a93-cb69-bdeb4d93d4f5"
      },
      "source": [
        "X = X_air_data_scaled\n",
        "y = y_Poverty\n",
        "\n",
        "model = LinearRegression()\n",
        "model.fit(X, y)\n",
        "\n",
        "accuracy = model.score(X,y)\n",
        "coefficients = model.coef_\n",
        "intercept = model.intercept_\n",
        "\n",
        "print(f\"Ozone coefficient: {coefficients[0]:.3f}\")\n",
        "print(f\"PM 2.5 coefficient: {coefficients[1]:.3f}\")\n",
        "print(f\"Diesel PM coefficient: {coefficients[2]:.3f}\")\n",
        "print(f\"Pesticides coefficient: {coefficients[3]:.3f}\")\n",
        "print(f\"Tox. Release coefficient: {coefficients[4]:.3f}\")\n",
        "print(f\"Traffic coefficient: {coefficients[5]:.3f}\")\n",
        "print(f\"Y-Intercept: {intercept:.3f}\")\n",
        "print(f\"R-square: {accuracy}\")"
      ],
      "execution_count": 10,
      "outputs": [
        {
          "output_type": "stream",
          "text": [
            "Ozone coefficient: 5.093\n",
            "PM 2.5 coefficient: 1.647\n",
            "Diesel PM coefficient: 4.642\n",
            "Pesticides coefficient: 1.103\n",
            "Tox. Release coefficient: 0.400\n",
            "Traffic coefficient: 0.283\n",
            "Y-Intercept: 36.412\n",
            "R-square: 0.12523889570487912\n"
          ],
          "name": "stdout"
        }
      ]
    },
    {
      "cell_type": "markdown",
      "metadata": {
        "id": "9JnJI8Jhi6JT"
      },
      "source": [
        "**Unemployment** Linear Regression Model"
      ]
    },
    {
      "cell_type": "code",
      "metadata": {
        "colab": {
          "base_uri": "https://localhost:8080/"
        },
        "id": "yWU7AJblJQ1F",
        "outputId": "302c7a0b-f493-434a-8575-58086db98ab7"
      },
      "source": [
        "X = X_air_data_scaled\n",
        "y = y_unemployment\n",
        "\n",
        "model = LinearRegression()\n",
        "model.fit(X, y)\n",
        "\n",
        "accuracy = model.score(X,y)\n",
        "coefficients = model.coef_\n",
        "intercept = model.intercept_\n",
        "\n",
        "print(f\"Ozone coefficient: {coefficients[0]:.3f}\")\n",
        "print(f\"PM 2.5 coefficient: {coefficients[1]:.3f}\")\n",
        "print(f\"Diesel PM coefficient: {coefficients[2]:.3f}\")\n",
        "print(f\"Pesticides coefficient: {coefficients[3]:.3f}\")\n",
        "print(f\"Tox. Release coefficient: {coefficients[4]:.3f}\")\n",
        "print(f\"Traffic coefficient: {coefficients[5]:.3f}\")\n",
        "print(f\"Y-Intercept: {intercept:.3f}\")\n",
        "print(f\"R-square: {accuracy}\")"
      ],
      "execution_count": 11,
      "outputs": [
        {
          "output_type": "stream",
          "text": [
            "Ozone coefficient: 1.522\n",
            "PM 2.5 coefficient: 0.145\n",
            "Diesel PM coefficient: 0.353\n",
            "Pesticides coefficient: 0.021\n",
            "Tox. Release coefficient: -0.129\n",
            "Traffic coefficient: -0.146\n",
            "Y-Intercept: 10.183\n",
            "R-square: 0.09980972892536788\n"
          ],
          "name": "stdout"
        }
      ]
    }
  ]
}