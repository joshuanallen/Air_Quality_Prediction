{
  "nbformat": 4,
  "nbformat_minor": 0,
  "metadata": {
    "colab": {
      "name": "AQI_Prediction_Random_Forest_Regressor_model.ipynb",
      "provenance": [],
      "collapsed_sections": []
    },
    "kernelspec": {
      "name": "python3",
      "display_name": "Python 3"
    },
    "language_info": {
      "name": "python"
    }
  },
  "cells": [
    {
      "cell_type": "code",
      "metadata": {
        "id": "61Yeh6nulHWp"
      },
      "source": [
        "# Import our dependencies\n",
        "from sklearn.model_selection import train_test_split\n",
        "from sklearn.preprocessing import StandardScaler, MinMaxScaler, RobustScaler\n",
        "from sklearn.ensemble import RandomForestClassifier, RandomForestRegressor\n",
        "from sklearn.metrics import accuracy_score\n",
        "from sklearn.preprocessing import OneHotEncoder\n",
        "import pandas as pd\n",
        "import tensorflow as tf"
      ],
      "execution_count": 1,
      "outputs": []
    },
    {
      "cell_type": "markdown",
      "metadata": {
        "id": "aHyHEyLGlVXV"
      },
      "source": [
        "Load in dataset\n",
        "\n",
        "Insert David SQL connector here for data connection"
      ]
    },
    {
      "cell_type": "code",
      "metadata": {
        "colab": {
          "base_uri": "https://localhost:8080/",
          "height": 221
        },
        "id": "-bWGJ9xjlTtX",
        "outputId": "04f89edb-ace0-42dc-f8be-59aea67d9735"
      },
      "source": [
        "data_df = pd.read_csv(\"https://raw.githubusercontent.com/joshuanallen/Air_Quality_Prediction/main/clean_data.csv\")\n",
        "data_df.head()"
      ],
      "execution_count": 2,
      "outputs": [
        {
          "output_type": "execute_result",
          "data": {
            "text/html": [
              "<div>\n",
              "<style scoped>\n",
              "    .dataframe tbody tr th:only-of-type {\n",
              "        vertical-align: middle;\n",
              "    }\n",
              "\n",
              "    .dataframe tbody tr th {\n",
              "        vertical-align: top;\n",
              "    }\n",
              "\n",
              "    .dataframe thead th {\n",
              "        text-align: right;\n",
              "    }\n",
              "</style>\n",
              "<table border=\"1\" class=\"dataframe\">\n",
              "  <thead>\n",
              "    <tr style=\"text-align: right;\">\n",
              "      <th></th>\n",
              "      <th>Unnamed: 0</th>\n",
              "      <th>Census Tract</th>\n",
              "      <th>Total Population</th>\n",
              "      <th>ZIP</th>\n",
              "      <th>Longitude</th>\n",
              "      <th>Latitude</th>\n",
              "      <th>Ozone</th>\n",
              "      <th>PM2.5</th>\n",
              "      <th>Diesel PM</th>\n",
              "      <th>Pesticides</th>\n",
              "      <th>Tox. Release</th>\n",
              "      <th>Traffic</th>\n",
              "      <th>Asthma</th>\n",
              "      <th>Low Birth Weight</th>\n",
              "      <th>Cardiovascular Disease</th>\n",
              "      <th>Poverty</th>\n",
              "      <th>Unemployment</th>\n",
              "    </tr>\n",
              "  </thead>\n",
              "  <tbody>\n",
              "    <tr>\n",
              "      <th>0</th>\n",
              "      <td>0</td>\n",
              "      <td>6019001100</td>\n",
              "      <td>3174</td>\n",
              "      <td>93706</td>\n",
              "      <td>-119.781696</td>\n",
              "      <td>36.709695</td>\n",
              "      <td>0.065</td>\n",
              "      <td>15.40</td>\n",
              "      <td>48.524</td>\n",
              "      <td>2.75</td>\n",
              "      <td>18551.957190</td>\n",
              "      <td>909.14</td>\n",
              "      <td>131.64</td>\n",
              "      <td>7.44</td>\n",
              "      <td>14.13</td>\n",
              "      <td>76.3</td>\n",
              "      <td>17.6</td>\n",
              "    </tr>\n",
              "    <tr>\n",
              "      <th>1</th>\n",
              "      <td>1</td>\n",
              "      <td>6071001600</td>\n",
              "      <td>6133</td>\n",
              "      <td>91761</td>\n",
              "      <td>-117.618013</td>\n",
              "      <td>34.057780</td>\n",
              "      <td>0.062</td>\n",
              "      <td>13.31</td>\n",
              "      <td>38.556</td>\n",
              "      <td>1.37</td>\n",
              "      <td>7494.236622</td>\n",
              "      <td>782.26</td>\n",
              "      <td>60.66</td>\n",
              "      <td>7.04</td>\n",
              "      <td>12.94</td>\n",
              "      <td>72.5</td>\n",
              "      <td>12.3</td>\n",
              "    </tr>\n",
              "    <tr>\n",
              "      <th>2</th>\n",
              "      <td>2</td>\n",
              "      <td>6019000200</td>\n",
              "      <td>3167</td>\n",
              "      <td>93706</td>\n",
              "      <td>-119.805504</td>\n",
              "      <td>36.735491</td>\n",
              "      <td>0.062</td>\n",
              "      <td>15.40</td>\n",
              "      <td>47.445</td>\n",
              "      <td>3.03</td>\n",
              "      <td>12454.948410</td>\n",
              "      <td>576.52</td>\n",
              "      <td>142.12</td>\n",
              "      <td>10.16</td>\n",
              "      <td>14.96</td>\n",
              "      <td>86.8</td>\n",
              "      <td>16.1</td>\n",
              "    </tr>\n",
              "    <tr>\n",
              "      <th>3</th>\n",
              "      <td>3</td>\n",
              "      <td>6077000801</td>\n",
              "      <td>6692</td>\n",
              "      <td>95203</td>\n",
              "      <td>-121.314524</td>\n",
              "      <td>37.940517</td>\n",
              "      <td>0.046</td>\n",
              "      <td>12.54</td>\n",
              "      <td>24.117</td>\n",
              "      <td>12.93</td>\n",
              "      <td>2387.782922</td>\n",
              "      <td>1305.01</td>\n",
              "      <td>142.17</td>\n",
              "      <td>6.23</td>\n",
              "      <td>14.72</td>\n",
              "      <td>61.3</td>\n",
              "      <td>19.6</td>\n",
              "    </tr>\n",
              "    <tr>\n",
              "      <th>4</th>\n",
              "      <td>4</td>\n",
              "      <td>6019001500</td>\n",
              "      <td>2206</td>\n",
              "      <td>93725</td>\n",
              "      <td>-119.717843</td>\n",
              "      <td>36.681600</td>\n",
              "      <td>0.065</td>\n",
              "      <td>15.40</td>\n",
              "      <td>18.846</td>\n",
              "      <td>3518.41</td>\n",
              "      <td>21790.706720</td>\n",
              "      <td>435.16</td>\n",
              "      <td>90.48</td>\n",
              "      <td>4.50</td>\n",
              "      <td>12.82</td>\n",
              "      <td>66.4</td>\n",
              "      <td>18.6</td>\n",
              "    </tr>\n",
              "  </tbody>\n",
              "</table>\n",
              "</div>"
            ],
            "text/plain": [
              "   Unnamed: 0  Census Tract  ...  Poverty  Unemployment\n",
              "0           0    6019001100  ...     76.3          17.6\n",
              "1           1    6071001600  ...     72.5          12.3\n",
              "2           2    6019000200  ...     86.8          16.1\n",
              "3           3    6077000801  ...     61.3          19.6\n",
              "4           4    6019001500  ...     66.4          18.6\n",
              "\n",
              "[5 rows x 17 columns]"
            ]
          },
          "metadata": {
            "tags": []
          },
          "execution_count": 2
        }
      ]
    },
    {
      "cell_type": "markdown",
      "metadata": {
        "id": "U_vN3JTElhUs"
      },
      "source": [
        "Drop unnecessary columns"
      ]
    },
    {
      "cell_type": "code",
      "metadata": {
        "colab": {
          "base_uri": "https://localhost:8080/",
          "height": 204
        },
        "id": "AA261HB1lne_",
        "outputId": "22b06233-374d-4907-d774-490bdf7a28ea"
      },
      "source": [
        "drop_loc_data_df = data_df[[\"Ozone\", \"PM2.5\", \"Diesel PM\", \"Pesticides\", \"Tox. Release\", \"Traffic\", \"Asthma\", \"Low Birth Weight\", \"Cardiovascular Disease\", \"Poverty\", \"Unemployment\"]]\n",
        "drop_loc_data_df.head()"
      ],
      "execution_count": 3,
      "outputs": [
        {
          "output_type": "execute_result",
          "data": {
            "text/html": [
              "<div>\n",
              "<style scoped>\n",
              "    .dataframe tbody tr th:only-of-type {\n",
              "        vertical-align: middle;\n",
              "    }\n",
              "\n",
              "    .dataframe tbody tr th {\n",
              "        vertical-align: top;\n",
              "    }\n",
              "\n",
              "    .dataframe thead th {\n",
              "        text-align: right;\n",
              "    }\n",
              "</style>\n",
              "<table border=\"1\" class=\"dataframe\">\n",
              "  <thead>\n",
              "    <tr style=\"text-align: right;\">\n",
              "      <th></th>\n",
              "      <th>Ozone</th>\n",
              "      <th>PM2.5</th>\n",
              "      <th>Diesel PM</th>\n",
              "      <th>Pesticides</th>\n",
              "      <th>Tox. Release</th>\n",
              "      <th>Traffic</th>\n",
              "      <th>Asthma</th>\n",
              "      <th>Low Birth Weight</th>\n",
              "      <th>Cardiovascular Disease</th>\n",
              "      <th>Poverty</th>\n",
              "      <th>Unemployment</th>\n",
              "    </tr>\n",
              "  </thead>\n",
              "  <tbody>\n",
              "    <tr>\n",
              "      <th>0</th>\n",
              "      <td>0.065</td>\n",
              "      <td>15.40</td>\n",
              "      <td>48.524</td>\n",
              "      <td>2.75</td>\n",
              "      <td>18551.957190</td>\n",
              "      <td>909.14</td>\n",
              "      <td>131.64</td>\n",
              "      <td>7.44</td>\n",
              "      <td>14.13</td>\n",
              "      <td>76.3</td>\n",
              "      <td>17.6</td>\n",
              "    </tr>\n",
              "    <tr>\n",
              "      <th>1</th>\n",
              "      <td>0.062</td>\n",
              "      <td>13.31</td>\n",
              "      <td>38.556</td>\n",
              "      <td>1.37</td>\n",
              "      <td>7494.236622</td>\n",
              "      <td>782.26</td>\n",
              "      <td>60.66</td>\n",
              "      <td>7.04</td>\n",
              "      <td>12.94</td>\n",
              "      <td>72.5</td>\n",
              "      <td>12.3</td>\n",
              "    </tr>\n",
              "    <tr>\n",
              "      <th>2</th>\n",
              "      <td>0.062</td>\n",
              "      <td>15.40</td>\n",
              "      <td>47.445</td>\n",
              "      <td>3.03</td>\n",
              "      <td>12454.948410</td>\n",
              "      <td>576.52</td>\n",
              "      <td>142.12</td>\n",
              "      <td>10.16</td>\n",
              "      <td>14.96</td>\n",
              "      <td>86.8</td>\n",
              "      <td>16.1</td>\n",
              "    </tr>\n",
              "    <tr>\n",
              "      <th>3</th>\n",
              "      <td>0.046</td>\n",
              "      <td>12.54</td>\n",
              "      <td>24.117</td>\n",
              "      <td>12.93</td>\n",
              "      <td>2387.782922</td>\n",
              "      <td>1305.01</td>\n",
              "      <td>142.17</td>\n",
              "      <td>6.23</td>\n",
              "      <td>14.72</td>\n",
              "      <td>61.3</td>\n",
              "      <td>19.6</td>\n",
              "    </tr>\n",
              "    <tr>\n",
              "      <th>4</th>\n",
              "      <td>0.065</td>\n",
              "      <td>15.40</td>\n",
              "      <td>18.846</td>\n",
              "      <td>3518.41</td>\n",
              "      <td>21790.706720</td>\n",
              "      <td>435.16</td>\n",
              "      <td>90.48</td>\n",
              "      <td>4.50</td>\n",
              "      <td>12.82</td>\n",
              "      <td>66.4</td>\n",
              "      <td>18.6</td>\n",
              "    </tr>\n",
              "  </tbody>\n",
              "</table>\n",
              "</div>"
            ],
            "text/plain": [
              "   Ozone  PM2.5  Diesel PM  ...  Cardiovascular Disease  Poverty  Unemployment\n",
              "0  0.065  15.40     48.524  ...                   14.13     76.3          17.6\n",
              "1  0.062  13.31     38.556  ...                   12.94     72.5          12.3\n",
              "2  0.062  15.40     47.445  ...                   14.96     86.8          16.1\n",
              "3  0.046  12.54     24.117  ...                   14.72     61.3          19.6\n",
              "4  0.065  15.40     18.846  ...                   12.82     66.4          18.6\n",
              "\n",
              "[5 rows x 11 columns]"
            ]
          },
          "metadata": {
            "tags": []
          },
          "execution_count": 3
        }
      ]
    },
    {
      "cell_type": "markdown",
      "metadata": {
        "id": "7Mxqk_KvltYm"
      },
      "source": [
        "Identify any missing data"
      ]
    },
    {
      "cell_type": "code",
      "metadata": {
        "colab": {
          "base_uri": "https://localhost:8080/"
        },
        "id": "7Gyzfy_YlsoD",
        "outputId": "2a66a8d1-36ad-405c-b131-0d71adaccee9"
      },
      "source": [
        "print(drop_loc_data_df.isnull().sum())"
      ],
      "execution_count": 4,
      "outputs": [
        {
          "output_type": "stream",
          "text": [
            "Ozone                     0\n",
            "PM2.5                     0\n",
            "Diesel PM                 0\n",
            "Pesticides                0\n",
            "Tox. Release              0\n",
            "Traffic                   0\n",
            "Asthma                    0\n",
            "Low Birth Weight          0\n",
            "Cardiovascular Disease    0\n",
            "Poverty                   0\n",
            "Unemployment              0\n",
            "dtype: int64\n"
          ],
          "name": "stdout"
        }
      ]
    },
    {
      "cell_type": "markdown",
      "metadata": {
        "id": "gz1UIEssl3SF"
      },
      "source": [
        "Describe data\n",
        "\n"
      ]
    },
    {
      "cell_type": "code",
      "metadata": {
        "colab": {
          "base_uri": "https://localhost:8080/",
          "height": 297
        },
        "id": "vP8jBQoWl603",
        "outputId": "a7921266-065d-4bb4-c086-5a08eff88d4c"
      },
      "source": [
        "drop_loc_data_df.describe()"
      ],
      "execution_count": 5,
      "outputs": [
        {
          "output_type": "execute_result",
          "data": {
            "text/html": [
              "<div>\n",
              "<style scoped>\n",
              "    .dataframe tbody tr th:only-of-type {\n",
              "        vertical-align: middle;\n",
              "    }\n",
              "\n",
              "    .dataframe tbody tr th {\n",
              "        vertical-align: top;\n",
              "    }\n",
              "\n",
              "    .dataframe thead th {\n",
              "        text-align: right;\n",
              "    }\n",
              "</style>\n",
              "<table border=\"1\" class=\"dataframe\">\n",
              "  <thead>\n",
              "    <tr style=\"text-align: right;\">\n",
              "      <th></th>\n",
              "      <th>Ozone</th>\n",
              "      <th>PM2.5</th>\n",
              "      <th>Diesel PM</th>\n",
              "      <th>Pesticides</th>\n",
              "      <th>Tox. Release</th>\n",
              "      <th>Traffic</th>\n",
              "      <th>Asthma</th>\n",
              "      <th>Low Birth Weight</th>\n",
              "      <th>Cardiovascular Disease</th>\n",
              "      <th>Poverty</th>\n",
              "      <th>Unemployment</th>\n",
              "    </tr>\n",
              "  </thead>\n",
              "  <tbody>\n",
              "    <tr>\n",
              "      <th>count</th>\n",
              "      <td>7712.000000</td>\n",
              "      <td>7712.000000</td>\n",
              "      <td>7712.000000</td>\n",
              "      <td>7712.000000</td>\n",
              "      <td>7712.000000</td>\n",
              "      <td>7712.000000</td>\n",
              "      <td>7712.000000</td>\n",
              "      <td>7712.000000</td>\n",
              "      <td>7712.000000</td>\n",
              "      <td>7712.000000</td>\n",
              "      <td>7712.000000</td>\n",
              "    </tr>\n",
              "    <tr>\n",
              "      <th>mean</th>\n",
              "      <td>0.047426</td>\n",
              "      <td>10.420606</td>\n",
              "      <td>19.348765</td>\n",
              "      <td>320.518047</td>\n",
              "      <td>3204.873215</td>\n",
              "      <td>953.325455</td>\n",
              "      <td>52.503613</td>\n",
              "      <td>4.980663</td>\n",
              "      <td>8.320344</td>\n",
              "      <td>36.412202</td>\n",
              "      <td>10.182923</td>\n",
              "    </tr>\n",
              "    <tr>\n",
              "      <th>std</th>\n",
              "      <td>0.010220</td>\n",
              "      <td>2.568878</td>\n",
              "      <td>16.469596</td>\n",
              "      <td>2822.298975</td>\n",
              "      <td>12652.368968</td>\n",
              "      <td>913.593370</td>\n",
              "      <td>30.330867</td>\n",
              "      <td>1.550364</td>\n",
              "      <td>2.929641</td>\n",
              "      <td>20.251424</td>\n",
              "      <td>4.957414</td>\n",
              "    </tr>\n",
              "    <tr>\n",
              "      <th>min</th>\n",
              "      <td>0.026000</td>\n",
              "      <td>1.869001</td>\n",
              "      <td>0.021000</td>\n",
              "      <td>0.000000</td>\n",
              "      <td>0.000000</td>\n",
              "      <td>22.410000</td>\n",
              "      <td>3.630000</td>\n",
              "      <td>0.000000</td>\n",
              "      <td>1.560000</td>\n",
              "      <td>1.000000</td>\n",
              "      <td>0.000000</td>\n",
              "    </tr>\n",
              "    <tr>\n",
              "      <th>25%</th>\n",
              "      <td>0.040000</td>\n",
              "      <td>8.697944</td>\n",
              "      <td>9.172000</td>\n",
              "      <td>0.000000</td>\n",
              "      <td>103.800931</td>\n",
              "      <td>450.047500</td>\n",
              "      <td>30.420000</td>\n",
              "      <td>3.960000</td>\n",
              "      <td>6.140000</td>\n",
              "      <td>19.200000</td>\n",
              "      <td>6.600000</td>\n",
              "    </tr>\n",
              "    <tr>\n",
              "      <th>50%</th>\n",
              "      <td>0.046000</td>\n",
              "      <td>10.370000</td>\n",
              "      <td>16.725500</td>\n",
              "      <td>0.000000</td>\n",
              "      <td>489.912078</td>\n",
              "      <td>706.890000</td>\n",
              "      <td>45.900000</td>\n",
              "      <td>4.920000</td>\n",
              "      <td>8.005000</td>\n",
              "      <td>33.600000</td>\n",
              "      <td>9.300000</td>\n",
              "    </tr>\n",
              "    <tr>\n",
              "      <th>75%</th>\n",
              "      <td>0.055000</td>\n",
              "      <td>12.050000</td>\n",
              "      <td>24.740750</td>\n",
              "      <td>0.360000</td>\n",
              "      <td>3571.025854</td>\n",
              "      <td>1207.335000</td>\n",
              "      <td>66.430000</td>\n",
              "      <td>5.930000</td>\n",
              "      <td>10.080000</td>\n",
              "      <td>51.600000</td>\n",
              "      <td>12.800000</td>\n",
              "    </tr>\n",
              "    <tr>\n",
              "      <th>max</th>\n",
              "      <td>0.068000</td>\n",
              "      <td>19.600000</td>\n",
              "      <td>208.400000</td>\n",
              "      <td>91316.190000</td>\n",
              "      <td>842751.329300</td>\n",
              "      <td>45687.870000</td>\n",
              "      <td>223.300000</td>\n",
              "      <td>14.890000</td>\n",
              "      <td>21.260000</td>\n",
              "      <td>94.900000</td>\n",
              "      <td>60.500000</td>\n",
              "    </tr>\n",
              "  </tbody>\n",
              "</table>\n",
              "</div>"
            ],
            "text/plain": [
              "             Ozone        PM2.5  ...      Poverty  Unemployment\n",
              "count  7712.000000  7712.000000  ...  7712.000000   7712.000000\n",
              "mean      0.047426    10.420606  ...    36.412202     10.182923\n",
              "std       0.010220     2.568878  ...    20.251424      4.957414\n",
              "min       0.026000     1.869001  ...     1.000000      0.000000\n",
              "25%       0.040000     8.697944  ...    19.200000      6.600000\n",
              "50%       0.046000    10.370000  ...    33.600000      9.300000\n",
              "75%       0.055000    12.050000  ...    51.600000     12.800000\n",
              "max       0.068000    19.600000  ...    94.900000     60.500000\n",
              "\n",
              "[8 rows x 11 columns]"
            ]
          },
          "metadata": {
            "tags": []
          },
          "execution_count": 5
        }
      ]
    },
    {
      "cell_type": "markdown",
      "metadata": {
        "id": "bQaRtjNXmKYp"
      },
      "source": [
        "Split dataset into feature and target variable datasets\n",
        "\n",
        "Features:\n",
        "1. Ozone\n",
        "2. PM2.5\n",
        "3. Diesel PM\n",
        "4. Pesticides\n",
        "5. Tox. Release\n",
        "6. Traffic\n",
        "\n",
        "We chose 5 target variables to build predictive models\n",
        "\n",
        "Targets:\n",
        "1. Asthma\n",
        "2. Low Birth Weight\n",
        "3. Cardiovascular Disease\n",
        "4. Poverty\n",
        "5. Unemployment\n"
      ]
    },
    {
      "cell_type": "code",
      "metadata": {
        "id": "ROELGIFDmMrJ"
      },
      "source": [
        "# Features\n",
        "X_air_data = drop_loc_data_df[[\"Ozone\", \"PM2.5\", \"Diesel PM\", \"Pesticides\", \"Tox. Release\", \"Traffic\"]]\n",
        "\n",
        "# Targets\n",
        "y_Asthma = drop_loc_data_df[\"Asthma\"]\n",
        "y_Low_birth_weight = drop_loc_data_df[\"Low Birth Weight\"]\n",
        "y_Cardiovascular_disease = drop_loc_data_df[\"Cardiovascular Disease\"]\n",
        "y_Poverty = drop_loc_data_df[\"Poverty\"]\n",
        "y_Unemployment = drop_loc_data_df[\"Unemployment\"]"
      ],
      "execution_count": 7,
      "outputs": []
    },
    {
      "cell_type": "markdown",
      "metadata": {
        "id": "0LcLhCksmgJR"
      },
      "source": [
        "Standardize feature variables\n",
        "\n",
        "1. Split into training and test datasets\n",
        "2. Scale the `X_train` and `X_test` dataset"
      ]
    },
    {
      "cell_type": "code",
      "metadata": {
        "id": "fwo5fekanFRp"
      },
      "source": [
        "X = X_air_data\n",
        "y = y_Asthma\n",
        "\n",
        "# Split training/test datasets\n",
        "X_train, X_test, y_train, y_test = train_test_split(X, y, random_state=78)"
      ],
      "execution_count": 8,
      "outputs": []
    },
    {
      "cell_type": "code",
      "metadata": {
        "id": "ZcswesZpnOUc"
      },
      "source": [
        "# Create a StandardScaler instance\n",
        "scaler = StandardScaler()\n",
        "# scaler = MinMaxScaler()\n",
        "# scaler = RobustScaler()\n",
        "\n",
        "\n",
        "# Fit the StandardScaler\n",
        "X_scaler = scaler.fit(X_train)\n",
        "\n",
        "# Scale the data\n",
        "X_train_scaled = X_scaler.transform(X_train)\n",
        "X_test_scaled = X_scaler.transform(X_test)"
      ],
      "execution_count": 9,
      "outputs": []
    },
    {
      "cell_type": "code",
      "metadata": {
        "colab": {
          "base_uri": "https://localhost:8080/"
        },
        "id": "nKh3GSPem6q7",
        "outputId": "5dab89c4-6de5-4701-9e6f-918f12ee8367"
      },
      "source": [
        "# Create a random forest regressor.\n",
        "\n",
        "rf_model = RandomForestRegressor(n_estimators=128, random_state=78)\n",
        "\n",
        "# Fitting the model\n",
        "rf_model = rf_model.fit(X_train_scaled, y_train)\n",
        "\n",
        "# Evaluate the model\n",
        "y_pred = rf_model.predict(X_test_scaled)\n",
        "print(f\" Random forest predictive r-square: {rf_model.score(X_test_scaled,y_test):.3f}\")"
      ],
      "execution_count": 10,
      "outputs": [
        {
          "output_type": "stream",
          "text": [
            " Random forest predictive accuracy: 0.602\n"
          ],
          "name": "stdout"
        }
      ]
    },
    {
      "cell_type": "markdown",
      "metadata": {
        "id": "vD0FqWnqo0uy"
      },
      "source": [
        "**Low Birth Rate** Random Regressor Model"
      ]
    },
    {
      "cell_type": "code",
      "metadata": {
        "id": "QgQqhFXQoJx4"
      },
      "source": [
        "X = X_air_data\n",
        "y = y_Low_birth_weight\n",
        "\n",
        "# Split training/test datasets\n",
        "X_train, X_test, y_train, y_test = train_test_split(X, y, random_state=78)"
      ],
      "execution_count": 20,
      "outputs": []
    },
    {
      "cell_type": "code",
      "metadata": {
        "id": "ki7FuUxUoL7p"
      },
      "source": [
        "# Create a StandardScaler instance\n",
        "scaler = StandardScaler()\n",
        "# scaler = MinMaxScaler()\n",
        "# scaler = RobustScaler()\n",
        "\n",
        "\n",
        "# Fit the StandardScaler\n",
        "X_scaler = scaler.fit(X_train)\n",
        "\n",
        "# Scale the data\n",
        "X_train_scaled = X_scaler.transform(X_train)\n",
        "X_test_scaled = X_scaler.transform(X_test)"
      ],
      "execution_count": 21,
      "outputs": []
    },
    {
      "cell_type": "code",
      "metadata": {
        "colab": {
          "base_uri": "https://localhost:8080/"
        },
        "id": "E9y-nVjVoTt2",
        "outputId": "8e8f37ff-27fa-4722-bf2c-6fd5404815e6"
      },
      "source": [
        "# Create a random forest regressor.\n",
        "\n",
        "rf_model = RandomForestRegressor(n_estimators=128, random_state=78)\n",
        "\n",
        "# Fitting the model\n",
        "rf_model = rf_model.fit(X_train_scaled, y_train)\n",
        "\n",
        "# Evaluate the model\n",
        "y_pred = rf_model.predict(X_test_scaled)\n",
        "print(f\" Random forest predictive r-square: {rf_model.score(X_test_scaled,y_test):.3f}\")"
      ],
      "execution_count": 22,
      "outputs": [
        {
          "output_type": "stream",
          "text": [
            " Random forest predictive accuracy: 0.115\n"
          ],
          "name": "stdout"
        }
      ]
    },
    {
      "cell_type": "markdown",
      "metadata": {
        "id": "qUGL-q8Wp6rN"
      },
      "source": [
        "**Cardiovascular Disease** Random Forest Regressor model"
      ]
    },
    {
      "cell_type": "code",
      "metadata": {
        "colab": {
          "base_uri": "https://localhost:8080/"
        },
        "id": "F81eqAHbqNaB",
        "outputId": "edf2654d-0b38-42b9-c0b4-b39f673fb86b"
      },
      "source": [
        "X = X_air_data\n",
        "y = y_Cardiovascular_disease\n",
        "\n",
        "# Split training/test datasets\n",
        "X_train, X_test, y_train, y_test = train_test_split(X, y, random_state=78)\n",
        "\n",
        "# Create a StandardScaler instance\n",
        "scaler = StandardScaler()\n",
        "# scaler = MinMaxScaler()\n",
        "# scaler = RobustScaler()\n",
        "\n",
        "\n",
        "# Fit the StandardScaler\n",
        "X_scaler = scaler.fit(X_train)\n",
        "\n",
        "# Scale the data\n",
        "X_train_scaled = X_scaler.transform(X_train)\n",
        "X_test_scaled = X_scaler.transform(X_test)\n",
        "\n",
        "# Create a random forest regressor.\n",
        "rf_model = RandomForestRegressor(n_estimators=128, random_state=78)\n",
        "\n",
        "# Fitting the model\n",
        "rf_model = rf_model.fit(X_train_scaled, y_train)\n",
        "\n",
        "# Evaluate the model\n",
        "y_pred = rf_model.predict(X_test_scaled)\n",
        "print(f\" Random forest predictive r-square: {rf_model.score(X_test_scaled,y_test):.3f}\")"
      ],
      "execution_count": 27,
      "outputs": [
        {
          "output_type": "stream",
          "text": [
            " Random forest predictive r-square: 0.561\n"
          ],
          "name": "stdout"
        }
      ]
    },
    {
      "cell_type": "markdown",
      "metadata": {
        "id": "gUdsMyxbquZu"
      },
      "source": [
        "**Poverty** Random Forest Regressor model\n"
      ]
    },
    {
      "cell_type": "code",
      "metadata": {
        "colab": {
          "base_uri": "https://localhost:8080/"
        },
        "id": "kCexRR68qP_R",
        "outputId": "6b50d87d-29a2-4f07-ec0c-a7756439643b"
      },
      "source": [
        "X = X_air_data\n",
        "y = y_Poverty\n",
        "\n",
        "# Split training/test datasets\n",
        "X_train, X_test, y_train, y_test = train_test_split(X, y, random_state=78)\n",
        "\n",
        "# Create a StandardScaler instance\n",
        "scaler = StandardScaler()\n",
        "# scaler = MinMaxScaler()\n",
        "# scaler = RobustScaler()\n",
        "\n",
        "# Fit the StandardScaler\n",
        "X_scaler = scaler.fit(X_train)\n",
        "\n",
        "# Scale the data\n",
        "X_train_scaled = X_scaler.transform(X_train)\n",
        "X_test_scaled = X_scaler.transform(X_test)\n",
        "\n",
        "# Create a random forest regressor.\n",
        "rf_model = RandomForestRegressor(n_estimators=128, random_state=78)\n",
        "\n",
        "# Fitting the model\n",
        "rf_model = rf_model.fit(X_train_scaled, y_train)\n",
        "\n",
        "# Evaluate the model\n",
        "y_pred = rf_model.predict(X_test_scaled)\n",
        "print(f\" Random forest predictive r-square: {rf_model.score(X_test_scaled,y_test):.3f}\")"
      ],
      "execution_count": 28,
      "outputs": [
        {
          "output_type": "stream",
          "text": [
            " Random forest predictive r-square: 0.500\n"
          ],
          "name": "stdout"
        }
      ]
    },
    {
      "cell_type": "markdown",
      "metadata": {
        "id": "btT2B0ohrG1I"
      },
      "source": [
        "**Unemployment** Random Forest Regressor Model"
      ]
    },
    {
      "cell_type": "code",
      "metadata": {
        "colab": {
          "base_uri": "https://localhost:8080/"
        },
        "id": "KU92Q3lmrS7V",
        "outputId": "729f94bc-68da-4e6c-d66c-d464d29ed1cc"
      },
      "source": [
        "X = X_air_data\n",
        "y = y_Unemployment\n",
        "\n",
        "# Split training/test datasets\n",
        "X_train, X_test, y_train, y_test = train_test_split(X, y, random_state=78)\n",
        "\n",
        "# Create a StandardScaler instance\n",
        "# scaler = StandardScaler()\n",
        "scaler = MinMaxScaler()\n",
        "# scaler = RobustScaler()\n",
        "\n",
        "# Fit the StandardScaler\n",
        "X_scaler = scaler.fit(X_train)\n",
        "\n",
        "# Scale the data\n",
        "X_train_scaled = X_scaler.transform(X_train)\n",
        "X_test_scaled = X_scaler.transform(X_test)\n",
        "\n",
        "# Create a random forest regressor.\n",
        "rf_model = RandomForestRegressor(n_estimators=128, random_state=78)\n",
        "\n",
        "# Fitting the model\n",
        "rf_model = rf_model.fit(X_train_scaled, y_train)\n",
        "\n",
        "# Evaluate the model\n",
        "y_pred = rf_model.predict(X_test_scaled)\n",
        "print(f\" Random forest predictive r-square: {rf_model.score(X_test_scaled,y_test):.3f}\")"
      ],
      "execution_count": 32,
      "outputs": [
        {
          "output_type": "stream",
          "text": [
            " Random forest predictive r-square: 0.300\n"
          ],
          "name": "stdout"
        }
      ]
    }
  ]
}