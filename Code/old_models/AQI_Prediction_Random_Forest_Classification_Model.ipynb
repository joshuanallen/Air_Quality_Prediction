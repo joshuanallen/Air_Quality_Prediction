{
  "nbformat": 4,
  "nbformat_minor": 0,
  "metadata": {
    "colab": {
      "name": "AQI_Prediction_Random_Forest_Classification_Model",
      "provenance": [],
      "collapsed_sections": []
    },
    "kernelspec": {
      "name": "python3",
      "display_name": "Python 3"
    },
    "language_info": {
      "name": "python"
    }
  },
  "cells": [
    {
      "cell_type": "code",
      "metadata": {
        "id": "A4iYgxyssEkG"
      },
      "source": [
        "# Import our dependencies\n",
        "from sklearn.model_selection import train_test_split\n",
        "from sklearn.preprocessing import StandardScaler, MinMaxScaler, RobustScaler\n",
        "from sklearn.ensemble import RandomForestClassifier, RandomForestRegressor\n",
        "from sklearn.metrics import accuracy_score\n",
        "from sklearn.preprocessing import OneHotEncoder\n",
        "import pandas as pd\n",
        "import tensorflow as tf"
      ],
      "execution_count": 1,
      "outputs": []
    },
    {
      "cell_type": "markdown",
      "metadata": {
        "id": "LLV9xN9isdKR"
      },
      "source": [
        "Load dataset"
      ]
    },
    {
      "cell_type": "code",
      "metadata": {
        "colab": {
          "base_uri": "https://localhost:8080/",
          "height": 221
        },
        "id": "7STbfSY8sevM",
        "outputId": "bab97112-6bb8-4b2e-84db-2814918f2bff"
      },
      "source": [
        "data_df = pd.read_csv(\"https://raw.githubusercontent.com/joshuanallen/Air_Quality_Prediction/main/clean_data.csv\")\n",
        "data_df.head()"
      ],
      "execution_count": 2,
      "outputs": [
        {
          "output_type": "execute_result",
          "data": {
            "text/html": [
              "<div>\n",
              "<style scoped>\n",
              "    .dataframe tbody tr th:only-of-type {\n",
              "        vertical-align: middle;\n",
              "    }\n",
              "\n",
              "    .dataframe tbody tr th {\n",
              "        vertical-align: top;\n",
              "    }\n",
              "\n",
              "    .dataframe thead th {\n",
              "        text-align: right;\n",
              "    }\n",
              "</style>\n",
              "<table border=\"1\" class=\"dataframe\">\n",
              "  <thead>\n",
              "    <tr style=\"text-align: right;\">\n",
              "      <th></th>\n",
              "      <th>Unnamed: 0</th>\n",
              "      <th>Census Tract</th>\n",
              "      <th>Total Population</th>\n",
              "      <th>ZIP</th>\n",
              "      <th>Longitude</th>\n",
              "      <th>Latitude</th>\n",
              "      <th>Ozone</th>\n",
              "      <th>PM2.5</th>\n",
              "      <th>Diesel PM</th>\n",
              "      <th>Pesticides</th>\n",
              "      <th>Tox. Release</th>\n",
              "      <th>Traffic</th>\n",
              "      <th>Asthma</th>\n",
              "      <th>Low Birth Weight</th>\n",
              "      <th>Cardiovascular Disease</th>\n",
              "      <th>Poverty</th>\n",
              "      <th>Unemployment</th>\n",
              "    </tr>\n",
              "  </thead>\n",
              "  <tbody>\n",
              "    <tr>\n",
              "      <th>0</th>\n",
              "      <td>0</td>\n",
              "      <td>6019001100</td>\n",
              "      <td>3174</td>\n",
              "      <td>93706</td>\n",
              "      <td>-119.781696</td>\n",
              "      <td>36.709695</td>\n",
              "      <td>0.065</td>\n",
              "      <td>15.40</td>\n",
              "      <td>48.524</td>\n",
              "      <td>2.75</td>\n",
              "      <td>18551.957190</td>\n",
              "      <td>909.14</td>\n",
              "      <td>131.64</td>\n",
              "      <td>7.44</td>\n",
              "      <td>14.13</td>\n",
              "      <td>76.3</td>\n",
              "      <td>17.6</td>\n",
              "    </tr>\n",
              "    <tr>\n",
              "      <th>1</th>\n",
              "      <td>1</td>\n",
              "      <td>6071001600</td>\n",
              "      <td>6133</td>\n",
              "      <td>91761</td>\n",
              "      <td>-117.618013</td>\n",
              "      <td>34.057780</td>\n",
              "      <td>0.062</td>\n",
              "      <td>13.31</td>\n",
              "      <td>38.556</td>\n",
              "      <td>1.37</td>\n",
              "      <td>7494.236622</td>\n",
              "      <td>782.26</td>\n",
              "      <td>60.66</td>\n",
              "      <td>7.04</td>\n",
              "      <td>12.94</td>\n",
              "      <td>72.5</td>\n",
              "      <td>12.3</td>\n",
              "    </tr>\n",
              "    <tr>\n",
              "      <th>2</th>\n",
              "      <td>2</td>\n",
              "      <td>6019000200</td>\n",
              "      <td>3167</td>\n",
              "      <td>93706</td>\n",
              "      <td>-119.805504</td>\n",
              "      <td>36.735491</td>\n",
              "      <td>0.062</td>\n",
              "      <td>15.40</td>\n",
              "      <td>47.445</td>\n",
              "      <td>3.03</td>\n",
              "      <td>12454.948410</td>\n",
              "      <td>576.52</td>\n",
              "      <td>142.12</td>\n",
              "      <td>10.16</td>\n",
              "      <td>14.96</td>\n",
              "      <td>86.8</td>\n",
              "      <td>16.1</td>\n",
              "    </tr>\n",
              "    <tr>\n",
              "      <th>3</th>\n",
              "      <td>3</td>\n",
              "      <td>6077000801</td>\n",
              "      <td>6692</td>\n",
              "      <td>95203</td>\n",
              "      <td>-121.314524</td>\n",
              "      <td>37.940517</td>\n",
              "      <td>0.046</td>\n",
              "      <td>12.54</td>\n",
              "      <td>24.117</td>\n",
              "      <td>12.93</td>\n",
              "      <td>2387.782922</td>\n",
              "      <td>1305.01</td>\n",
              "      <td>142.17</td>\n",
              "      <td>6.23</td>\n",
              "      <td>14.72</td>\n",
              "      <td>61.3</td>\n",
              "      <td>19.6</td>\n",
              "    </tr>\n",
              "    <tr>\n",
              "      <th>4</th>\n",
              "      <td>4</td>\n",
              "      <td>6019001500</td>\n",
              "      <td>2206</td>\n",
              "      <td>93725</td>\n",
              "      <td>-119.717843</td>\n",
              "      <td>36.681600</td>\n",
              "      <td>0.065</td>\n",
              "      <td>15.40</td>\n",
              "      <td>18.846</td>\n",
              "      <td>3518.41</td>\n",
              "      <td>21790.706720</td>\n",
              "      <td>435.16</td>\n",
              "      <td>90.48</td>\n",
              "      <td>4.50</td>\n",
              "      <td>12.82</td>\n",
              "      <td>66.4</td>\n",
              "      <td>18.6</td>\n",
              "    </tr>\n",
              "  </tbody>\n",
              "</table>\n",
              "</div>"
            ],
            "text/plain": [
              "   Unnamed: 0  Census Tract  ...  Poverty  Unemployment\n",
              "0           0    6019001100  ...     76.3          17.6\n",
              "1           1    6071001600  ...     72.5          12.3\n",
              "2           2    6019000200  ...     86.8          16.1\n",
              "3           3    6077000801  ...     61.3          19.6\n",
              "4           4    6019001500  ...     66.4          18.6\n",
              "\n",
              "[5 rows x 17 columns]"
            ]
          },
          "metadata": {
            "tags": []
          },
          "execution_count": 2
        }
      ]
    },
    {
      "cell_type": "markdown",
      "metadata": {
        "id": "jbwXG10JsffL"
      },
      "source": [
        "Drop unecessary columns"
      ]
    },
    {
      "cell_type": "code",
      "metadata": {
        "colab": {
          "base_uri": "https://localhost:8080/",
          "height": 204
        },
        "id": "_ulaZDHtsjYl",
        "outputId": "24f05527-b1b9-47de-c519-bc9741293bbb"
      },
      "source": [
        "drop_loc_data_df = data_df[[\"Ozone\", \"PM2.5\", \"Diesel PM\", \"Pesticides\", \"Tox. Release\", \"Traffic\", \"Asthma\", \"Low Birth Weight\", \"Cardiovascular Disease\", \"Poverty\", \"Unemployment\"]]\n",
        "drop_loc_data_df.head()"
      ],
      "execution_count": 3,
      "outputs": [
        {
          "output_type": "execute_result",
          "data": {
            "text/html": [
              "<div>\n",
              "<style scoped>\n",
              "    .dataframe tbody tr th:only-of-type {\n",
              "        vertical-align: middle;\n",
              "    }\n",
              "\n",
              "    .dataframe tbody tr th {\n",
              "        vertical-align: top;\n",
              "    }\n",
              "\n",
              "    .dataframe thead th {\n",
              "        text-align: right;\n",
              "    }\n",
              "</style>\n",
              "<table border=\"1\" class=\"dataframe\">\n",
              "  <thead>\n",
              "    <tr style=\"text-align: right;\">\n",
              "      <th></th>\n",
              "      <th>Ozone</th>\n",
              "      <th>PM2.5</th>\n",
              "      <th>Diesel PM</th>\n",
              "      <th>Pesticides</th>\n",
              "      <th>Tox. Release</th>\n",
              "      <th>Traffic</th>\n",
              "      <th>Asthma</th>\n",
              "      <th>Low Birth Weight</th>\n",
              "      <th>Cardiovascular Disease</th>\n",
              "      <th>Poverty</th>\n",
              "      <th>Unemployment</th>\n",
              "    </tr>\n",
              "  </thead>\n",
              "  <tbody>\n",
              "    <tr>\n",
              "      <th>0</th>\n",
              "      <td>0.065</td>\n",
              "      <td>15.40</td>\n",
              "      <td>48.524</td>\n",
              "      <td>2.75</td>\n",
              "      <td>18551.957190</td>\n",
              "      <td>909.14</td>\n",
              "      <td>131.64</td>\n",
              "      <td>7.44</td>\n",
              "      <td>14.13</td>\n",
              "      <td>76.3</td>\n",
              "      <td>17.6</td>\n",
              "    </tr>\n",
              "    <tr>\n",
              "      <th>1</th>\n",
              "      <td>0.062</td>\n",
              "      <td>13.31</td>\n",
              "      <td>38.556</td>\n",
              "      <td>1.37</td>\n",
              "      <td>7494.236622</td>\n",
              "      <td>782.26</td>\n",
              "      <td>60.66</td>\n",
              "      <td>7.04</td>\n",
              "      <td>12.94</td>\n",
              "      <td>72.5</td>\n",
              "      <td>12.3</td>\n",
              "    </tr>\n",
              "    <tr>\n",
              "      <th>2</th>\n",
              "      <td>0.062</td>\n",
              "      <td>15.40</td>\n",
              "      <td>47.445</td>\n",
              "      <td>3.03</td>\n",
              "      <td>12454.948410</td>\n",
              "      <td>576.52</td>\n",
              "      <td>142.12</td>\n",
              "      <td>10.16</td>\n",
              "      <td>14.96</td>\n",
              "      <td>86.8</td>\n",
              "      <td>16.1</td>\n",
              "    </tr>\n",
              "    <tr>\n",
              "      <th>3</th>\n",
              "      <td>0.046</td>\n",
              "      <td>12.54</td>\n",
              "      <td>24.117</td>\n",
              "      <td>12.93</td>\n",
              "      <td>2387.782922</td>\n",
              "      <td>1305.01</td>\n",
              "      <td>142.17</td>\n",
              "      <td>6.23</td>\n",
              "      <td>14.72</td>\n",
              "      <td>61.3</td>\n",
              "      <td>19.6</td>\n",
              "    </tr>\n",
              "    <tr>\n",
              "      <th>4</th>\n",
              "      <td>0.065</td>\n",
              "      <td>15.40</td>\n",
              "      <td>18.846</td>\n",
              "      <td>3518.41</td>\n",
              "      <td>21790.706720</td>\n",
              "      <td>435.16</td>\n",
              "      <td>90.48</td>\n",
              "      <td>4.50</td>\n",
              "      <td>12.82</td>\n",
              "      <td>66.4</td>\n",
              "      <td>18.6</td>\n",
              "    </tr>\n",
              "  </tbody>\n",
              "</table>\n",
              "</div>"
            ],
            "text/plain": [
              "   Ozone  PM2.5  Diesel PM  ...  Cardiovascular Disease  Poverty  Unemployment\n",
              "0  0.065  15.40     48.524  ...                   14.13     76.3          17.6\n",
              "1  0.062  13.31     38.556  ...                   12.94     72.5          12.3\n",
              "2  0.062  15.40     47.445  ...                   14.96     86.8          16.1\n",
              "3  0.046  12.54     24.117  ...                   14.72     61.3          19.6\n",
              "4  0.065  15.40     18.846  ...                   12.82     66.4          18.6\n",
              "\n",
              "[5 rows x 11 columns]"
            ]
          },
          "metadata": {
            "tags": []
          },
          "execution_count": 3
        }
      ]
    },
    {
      "cell_type": "markdown",
      "metadata": {
        "id": "--Bu8dCCyWCI"
      },
      "source": [
        "Check for missing data"
      ]
    },
    {
      "cell_type": "code",
      "metadata": {
        "colab": {
          "base_uri": "https://localhost:8080/"
        },
        "id": "gLY8QEI-yXjU",
        "outputId": "31eb79e7-b440-444d-e980-04169c389d00"
      },
      "source": [
        "print(drop_loc_data_df.isnull().sum())"
      ],
      "execution_count": 4,
      "outputs": [
        {
          "output_type": "stream",
          "text": [
            "Ozone                     0\n",
            "PM2.5                     0\n",
            "Diesel PM                 0\n",
            "Pesticides                0\n",
            "Tox. Release              0\n",
            "Traffic                   0\n",
            "Asthma                    0\n",
            "Low Birth Weight          0\n",
            "Cardiovascular Disease    0\n",
            "Poverty                   0\n",
            "Unemployment              0\n",
            "dtype: int64\n"
          ],
          "name": "stdout"
        }
      ]
    },
    {
      "cell_type": "markdown",
      "metadata": {
        "id": "dMRGxx87yZHP"
      },
      "source": [
        "Summarize dataset"
      ]
    },
    {
      "cell_type": "code",
      "metadata": {
        "colab": {
          "base_uri": "https://localhost:8080/",
          "height": 297
        },
        "id": "VXaYihVkyb2n",
        "outputId": "def0607e-9e89-435f-83ef-8b0b60f1f7a5"
      },
      "source": [
        "drop_loc_data_df.describe()"
      ],
      "execution_count": 5,
      "outputs": [
        {
          "output_type": "execute_result",
          "data": {
            "text/html": [
              "<div>\n",
              "<style scoped>\n",
              "    .dataframe tbody tr th:only-of-type {\n",
              "        vertical-align: middle;\n",
              "    }\n",
              "\n",
              "    .dataframe tbody tr th {\n",
              "        vertical-align: top;\n",
              "    }\n",
              "\n",
              "    .dataframe thead th {\n",
              "        text-align: right;\n",
              "    }\n",
              "</style>\n",
              "<table border=\"1\" class=\"dataframe\">\n",
              "  <thead>\n",
              "    <tr style=\"text-align: right;\">\n",
              "      <th></th>\n",
              "      <th>Ozone</th>\n",
              "      <th>PM2.5</th>\n",
              "      <th>Diesel PM</th>\n",
              "      <th>Pesticides</th>\n",
              "      <th>Tox. Release</th>\n",
              "      <th>Traffic</th>\n",
              "      <th>Asthma</th>\n",
              "      <th>Low Birth Weight</th>\n",
              "      <th>Cardiovascular Disease</th>\n",
              "      <th>Poverty</th>\n",
              "      <th>Unemployment</th>\n",
              "    </tr>\n",
              "  </thead>\n",
              "  <tbody>\n",
              "    <tr>\n",
              "      <th>count</th>\n",
              "      <td>7712.000000</td>\n",
              "      <td>7712.000000</td>\n",
              "      <td>7712.000000</td>\n",
              "      <td>7712.000000</td>\n",
              "      <td>7712.000000</td>\n",
              "      <td>7712.000000</td>\n",
              "      <td>7712.000000</td>\n",
              "      <td>7712.000000</td>\n",
              "      <td>7712.000000</td>\n",
              "      <td>7712.000000</td>\n",
              "      <td>7712.000000</td>\n",
              "    </tr>\n",
              "    <tr>\n",
              "      <th>mean</th>\n",
              "      <td>0.047426</td>\n",
              "      <td>10.420606</td>\n",
              "      <td>19.348765</td>\n",
              "      <td>320.518047</td>\n",
              "      <td>3204.873215</td>\n",
              "      <td>953.325455</td>\n",
              "      <td>52.503613</td>\n",
              "      <td>4.980663</td>\n",
              "      <td>8.320344</td>\n",
              "      <td>36.412202</td>\n",
              "      <td>10.182923</td>\n",
              "    </tr>\n",
              "    <tr>\n",
              "      <th>std</th>\n",
              "      <td>0.010220</td>\n",
              "      <td>2.568878</td>\n",
              "      <td>16.469596</td>\n",
              "      <td>2822.298975</td>\n",
              "      <td>12652.368968</td>\n",
              "      <td>913.593370</td>\n",
              "      <td>30.330867</td>\n",
              "      <td>1.550364</td>\n",
              "      <td>2.929641</td>\n",
              "      <td>20.251424</td>\n",
              "      <td>4.957414</td>\n",
              "    </tr>\n",
              "    <tr>\n",
              "      <th>min</th>\n",
              "      <td>0.026000</td>\n",
              "      <td>1.869001</td>\n",
              "      <td>0.021000</td>\n",
              "      <td>0.000000</td>\n",
              "      <td>0.000000</td>\n",
              "      <td>22.410000</td>\n",
              "      <td>3.630000</td>\n",
              "      <td>0.000000</td>\n",
              "      <td>1.560000</td>\n",
              "      <td>1.000000</td>\n",
              "      <td>0.000000</td>\n",
              "    </tr>\n",
              "    <tr>\n",
              "      <th>25%</th>\n",
              "      <td>0.040000</td>\n",
              "      <td>8.697944</td>\n",
              "      <td>9.172000</td>\n",
              "      <td>0.000000</td>\n",
              "      <td>103.800931</td>\n",
              "      <td>450.047500</td>\n",
              "      <td>30.420000</td>\n",
              "      <td>3.960000</td>\n",
              "      <td>6.140000</td>\n",
              "      <td>19.200000</td>\n",
              "      <td>6.600000</td>\n",
              "    </tr>\n",
              "    <tr>\n",
              "      <th>50%</th>\n",
              "      <td>0.046000</td>\n",
              "      <td>10.370000</td>\n",
              "      <td>16.725500</td>\n",
              "      <td>0.000000</td>\n",
              "      <td>489.912078</td>\n",
              "      <td>706.890000</td>\n",
              "      <td>45.900000</td>\n",
              "      <td>4.920000</td>\n",
              "      <td>8.005000</td>\n",
              "      <td>33.600000</td>\n",
              "      <td>9.300000</td>\n",
              "    </tr>\n",
              "    <tr>\n",
              "      <th>75%</th>\n",
              "      <td>0.055000</td>\n",
              "      <td>12.050000</td>\n",
              "      <td>24.740750</td>\n",
              "      <td>0.360000</td>\n",
              "      <td>3571.025854</td>\n",
              "      <td>1207.335000</td>\n",
              "      <td>66.430000</td>\n",
              "      <td>5.930000</td>\n",
              "      <td>10.080000</td>\n",
              "      <td>51.600000</td>\n",
              "      <td>12.800000</td>\n",
              "    </tr>\n",
              "    <tr>\n",
              "      <th>max</th>\n",
              "      <td>0.068000</td>\n",
              "      <td>19.600000</td>\n",
              "      <td>208.400000</td>\n",
              "      <td>91316.190000</td>\n",
              "      <td>842751.329300</td>\n",
              "      <td>45687.870000</td>\n",
              "      <td>223.300000</td>\n",
              "      <td>14.890000</td>\n",
              "      <td>21.260000</td>\n",
              "      <td>94.900000</td>\n",
              "      <td>60.500000</td>\n",
              "    </tr>\n",
              "  </tbody>\n",
              "</table>\n",
              "</div>"
            ],
            "text/plain": [
              "             Ozone        PM2.5  ...      Poverty  Unemployment\n",
              "count  7712.000000  7712.000000  ...  7712.000000   7712.000000\n",
              "mean      0.047426    10.420606  ...    36.412202     10.182923\n",
              "std       0.010220     2.568878  ...    20.251424      4.957414\n",
              "min       0.026000     1.869001  ...     1.000000      0.000000\n",
              "25%       0.040000     8.697944  ...    19.200000      6.600000\n",
              "50%       0.046000    10.370000  ...    33.600000      9.300000\n",
              "75%       0.055000    12.050000  ...    51.600000     12.800000\n",
              "max       0.068000    19.600000  ...    94.900000     60.500000\n",
              "\n",
              "[8 rows x 11 columns]"
            ]
          },
          "metadata": {
            "tags": []
          },
          "execution_count": 5
        }
      ]
    },
    {
      "cell_type": "markdown",
      "metadata": {
        "id": "o6R_A_wN5iY9"
      },
      "source": [
        "Bin continuous variables for classification"
      ]
    },
    {
      "cell_type": "code",
      "metadata": {
        "colab": {
          "base_uri": "https://localhost:8080/",
          "height": 697
        },
        "id": "4boE5I4A0PJ_",
        "outputId": "da0a516e-c634-40d5-b897-17addcb17156"
      },
      "source": [
        "# Asthma Binning\n",
        "asthma_bins = [0, 25, 50, 75, 100, 125, 150, 175, 200, 225]\n",
        "\n",
        "asthma_labels =[1,2,3,4,5,6,7,8,9]\n",
        "\n",
        "drop_loc_data_df['Asthma_binned'] = pd.cut(drop_loc_data_df[\"Asthma\"], bins = asthma_bins, labels = asthma_labels, include_lowest=True)\n",
        "\n",
        "\n",
        "# Low birth weight binning\n",
        "lbw_bins = [-1, 3, 6, 9, 12, 15]\n",
        "\n",
        "lbw_labels =[1,2,3,4,5]\n",
        "\n",
        "drop_loc_data_df['LBW_binned'] = pd.cut(drop_loc_data_df[\"Low Birth Weight\"], bins = lbw_bins, labels = lbw_labels, include_lowest=True)\n",
        "\n",
        "\n",
        "# Cardiovascular Disease Binning\n",
        "cvd_bins = [0, 3, 6, 9, 12, 14, 16, 18, 20, 22]\n",
        "\n",
        "cvd_labels =[1,2,3,4,5,6,7,8,9]\n",
        "\n",
        "drop_loc_data_df['CVD_binned'] = pd.cut(drop_loc_data_df[\"Cardiovascular Disease\"], bins = cvd_bins, labels = cvd_labels, include_lowest=True)\n",
        "\n",
        "\n",
        "# Poverty\n",
        "poverty_bins = [0, 20, 40, 60, 80, 100]\n",
        "\n",
        "poverty_labels =[1,2,3,4,5]\n",
        "\n",
        "drop_loc_data_df['Poverty_binned'] = pd.cut(drop_loc_data_df[\"Poverty\"], bins = poverty_bins, labels = poverty_labels, include_lowest=True)\n",
        "\n",
        "\n",
        "# Unemployment\n",
        "ue_bins = [0, 5, 10, 15, 20, 25, 100]\n",
        "\n",
        "ue_labels =[1,2,3,4,5,6]\n",
        "\n",
        "drop_loc_data_df['Unemployment_binned'] = pd.cut(drop_loc_data_df[\"Unemployment\"], bins = ue_bins, labels = ue_labels, include_lowest=True)\n",
        "\n",
        "\n",
        "drop_loc_data_df.head()"
      ],
      "execution_count": 9,
      "outputs": [
        {
          "output_type": "stream",
          "text": [
            "/usr/local/lib/python3.7/dist-packages/ipykernel_launcher.py:6: SettingWithCopyWarning: \n",
            "A value is trying to be set on a copy of a slice from a DataFrame.\n",
            "Try using .loc[row_indexer,col_indexer] = value instead\n",
            "\n",
            "See the caveats in the documentation: https://pandas.pydata.org/pandas-docs/stable/user_guide/indexing.html#returning-a-view-versus-a-copy\n",
            "  \n",
            "/usr/local/lib/python3.7/dist-packages/ipykernel_launcher.py:14: SettingWithCopyWarning: \n",
            "A value is trying to be set on a copy of a slice from a DataFrame.\n",
            "Try using .loc[row_indexer,col_indexer] = value instead\n",
            "\n",
            "See the caveats in the documentation: https://pandas.pydata.org/pandas-docs/stable/user_guide/indexing.html#returning-a-view-versus-a-copy\n",
            "  \n",
            "/usr/local/lib/python3.7/dist-packages/ipykernel_launcher.py:22: SettingWithCopyWarning: \n",
            "A value is trying to be set on a copy of a slice from a DataFrame.\n",
            "Try using .loc[row_indexer,col_indexer] = value instead\n",
            "\n",
            "See the caveats in the documentation: https://pandas.pydata.org/pandas-docs/stable/user_guide/indexing.html#returning-a-view-versus-a-copy\n",
            "/usr/local/lib/python3.7/dist-packages/ipykernel_launcher.py:30: SettingWithCopyWarning: \n",
            "A value is trying to be set on a copy of a slice from a DataFrame.\n",
            "Try using .loc[row_indexer,col_indexer] = value instead\n",
            "\n",
            "See the caveats in the documentation: https://pandas.pydata.org/pandas-docs/stable/user_guide/indexing.html#returning-a-view-versus-a-copy\n",
            "/usr/local/lib/python3.7/dist-packages/ipykernel_launcher.py:38: SettingWithCopyWarning: \n",
            "A value is trying to be set on a copy of a slice from a DataFrame.\n",
            "Try using .loc[row_indexer,col_indexer] = value instead\n",
            "\n",
            "See the caveats in the documentation: https://pandas.pydata.org/pandas-docs/stable/user_guide/indexing.html#returning-a-view-versus-a-copy\n"
          ],
          "name": "stderr"
        },
        {
          "output_type": "execute_result",
          "data": {
            "text/html": [
              "<div>\n",
              "<style scoped>\n",
              "    .dataframe tbody tr th:only-of-type {\n",
              "        vertical-align: middle;\n",
              "    }\n",
              "\n",
              "    .dataframe tbody tr th {\n",
              "        vertical-align: top;\n",
              "    }\n",
              "\n",
              "    .dataframe thead th {\n",
              "        text-align: right;\n",
              "    }\n",
              "</style>\n",
              "<table border=\"1\" class=\"dataframe\">\n",
              "  <thead>\n",
              "    <tr style=\"text-align: right;\">\n",
              "      <th></th>\n",
              "      <th>Ozone</th>\n",
              "      <th>PM2.5</th>\n",
              "      <th>Diesel PM</th>\n",
              "      <th>Pesticides</th>\n",
              "      <th>Tox. Release</th>\n",
              "      <th>Traffic</th>\n",
              "      <th>Asthma</th>\n",
              "      <th>Low Birth Weight</th>\n",
              "      <th>Cardiovascular Disease</th>\n",
              "      <th>Poverty</th>\n",
              "      <th>Unemployment</th>\n",
              "      <th>Asthma_binned</th>\n",
              "      <th>LBW_binned</th>\n",
              "      <th>CVD_binned</th>\n",
              "      <th>Poverty_binned</th>\n",
              "      <th>Unemployment_binned</th>\n",
              "    </tr>\n",
              "  </thead>\n",
              "  <tbody>\n",
              "    <tr>\n",
              "      <th>0</th>\n",
              "      <td>0.065</td>\n",
              "      <td>15.40</td>\n",
              "      <td>48.524</td>\n",
              "      <td>2.75</td>\n",
              "      <td>18551.957190</td>\n",
              "      <td>909.14</td>\n",
              "      <td>131.64</td>\n",
              "      <td>7.44</td>\n",
              "      <td>14.13</td>\n",
              "      <td>76.3</td>\n",
              "      <td>17.6</td>\n",
              "      <td>6</td>\n",
              "      <td>3</td>\n",
              "      <td>6</td>\n",
              "      <td>4</td>\n",
              "      <td>4</td>\n",
              "    </tr>\n",
              "    <tr>\n",
              "      <th>1</th>\n",
              "      <td>0.062</td>\n",
              "      <td>13.31</td>\n",
              "      <td>38.556</td>\n",
              "      <td>1.37</td>\n",
              "      <td>7494.236622</td>\n",
              "      <td>782.26</td>\n",
              "      <td>60.66</td>\n",
              "      <td>7.04</td>\n",
              "      <td>12.94</td>\n",
              "      <td>72.5</td>\n",
              "      <td>12.3</td>\n",
              "      <td>3</td>\n",
              "      <td>3</td>\n",
              "      <td>5</td>\n",
              "      <td>4</td>\n",
              "      <td>3</td>\n",
              "    </tr>\n",
              "    <tr>\n",
              "      <th>2</th>\n",
              "      <td>0.062</td>\n",
              "      <td>15.40</td>\n",
              "      <td>47.445</td>\n",
              "      <td>3.03</td>\n",
              "      <td>12454.948410</td>\n",
              "      <td>576.52</td>\n",
              "      <td>142.12</td>\n",
              "      <td>10.16</td>\n",
              "      <td>14.96</td>\n",
              "      <td>86.8</td>\n",
              "      <td>16.1</td>\n",
              "      <td>6</td>\n",
              "      <td>4</td>\n",
              "      <td>6</td>\n",
              "      <td>5</td>\n",
              "      <td>4</td>\n",
              "    </tr>\n",
              "    <tr>\n",
              "      <th>3</th>\n",
              "      <td>0.046</td>\n",
              "      <td>12.54</td>\n",
              "      <td>24.117</td>\n",
              "      <td>12.93</td>\n",
              "      <td>2387.782922</td>\n",
              "      <td>1305.01</td>\n",
              "      <td>142.17</td>\n",
              "      <td>6.23</td>\n",
              "      <td>14.72</td>\n",
              "      <td>61.3</td>\n",
              "      <td>19.6</td>\n",
              "      <td>6</td>\n",
              "      <td>3</td>\n",
              "      <td>6</td>\n",
              "      <td>4</td>\n",
              "      <td>4</td>\n",
              "    </tr>\n",
              "    <tr>\n",
              "      <th>4</th>\n",
              "      <td>0.065</td>\n",
              "      <td>15.40</td>\n",
              "      <td>18.846</td>\n",
              "      <td>3518.41</td>\n",
              "      <td>21790.706720</td>\n",
              "      <td>435.16</td>\n",
              "      <td>90.48</td>\n",
              "      <td>4.50</td>\n",
              "      <td>12.82</td>\n",
              "      <td>66.4</td>\n",
              "      <td>18.6</td>\n",
              "      <td>4</td>\n",
              "      <td>2</td>\n",
              "      <td>5</td>\n",
              "      <td>4</td>\n",
              "      <td>4</td>\n",
              "    </tr>\n",
              "  </tbody>\n",
              "</table>\n",
              "</div>"
            ],
            "text/plain": [
              "   Ozone  PM2.5  Diesel PM  ...  CVD_binned  Poverty_binned  Unemployment_binned\n",
              "0  0.065  15.40     48.524  ...           6               4                    4\n",
              "1  0.062  13.31     38.556  ...           5               4                    3\n",
              "2  0.062  15.40     47.445  ...           6               5                    4\n",
              "3  0.046  12.54     24.117  ...           6               4                    4\n",
              "4  0.065  15.40     18.846  ...           5               4                    4\n",
              "\n",
              "[5 rows x 16 columns]"
            ]
          },
          "metadata": {
            "tags": []
          },
          "execution_count": 9
        }
      ]
    },
    {
      "cell_type": "markdown",
      "metadata": {
        "id": "OeHVlD1R5hzN"
      },
      "source": [
        "Set feature and target variables"
      ]
    },
    {
      "cell_type": "code",
      "metadata": {
        "id": "J_tzv10d6SGf"
      },
      "source": [
        "# Features\n",
        "X_air_data = drop_loc_data_df[[\"Ozone\", \"PM2.5\", \"Diesel PM\", \"Pesticides\", \"Tox. Release\", \"Traffic\"]]\n",
        "\n",
        "# targets\n",
        "y_Asthma = drop_loc_data_df[\"Asthma_binned\"]\n",
        "y_Low_birth_weight = drop_loc_data_df[\"LBW_binned\"]\n",
        "y_Cardiovascular_disease = drop_loc_data_df[\"CVD_binned\"]\n",
        "y_Poverty = drop_loc_data_df[\"Poverty_binned\"]\n",
        "y_Unemployment = drop_loc_data_df[\"Unemployment_binned\"]"
      ],
      "execution_count": 10,
      "outputs": []
    },
    {
      "cell_type": "markdown",
      "metadata": {
        "id": "775uCA7Y6ccS"
      },
      "source": [
        "Standarize numerical variables\n",
        "\n",
        "1. Split into training and testing datasets\n",
        "2. Scale the feature data\n",
        "3. Train and evaluate the Random Forest Classifier"
      ]
    },
    {
      "cell_type": "code",
      "metadata": {
        "colab": {
          "base_uri": "https://localhost:8080/"
        },
        "id": "Jc9a470r6gpP",
        "outputId": "92b54001-7b99-43ab-ea9e-ce2a7e95ea83"
      },
      "source": [
        "X = X_air_data\n",
        "y = y_Asthma\n",
        "\n",
        "# Split training/test datasets\n",
        "X_train, X_test, y_train, y_test = train_test_split(X, y, random_state=78)\n",
        "\n",
        "# Create a StandardScaler instance\n",
        "scaler = StandardScaler()\n",
        "# scaler = MinMaxScaler()\n",
        "# scaler = RobustScaler()\n",
        "\n",
        "\n",
        "# Fit the StandardScaler\n",
        "X_scaler = scaler.fit(X_train)\n",
        "\n",
        "# Scale the data\n",
        "X_train_scaled = X_scaler.transform(X_train)\n",
        "X_test_scaled = X_scaler.transform(X_test)\n",
        "\n",
        "# Create a random forest classifier.\n",
        "rf_model = RandomForestClassifier(n_estimators=128, random_state=78)\n",
        "\n",
        "# Fitting the model\n",
        "rf_model = rf_model.fit(X_train_scaled, y_train)\n",
        "\n",
        "# Evaluate the model\n",
        "y_pred = rf_model.predict(X_test_scaled)\n",
        "print(f\" Random forest predictive accuracy: {accuracy_score(y_test,y_pred):.3f}\")"
      ],
      "execution_count": 11,
      "outputs": [
        {
          "output_type": "stream",
          "text": [
            " Random forest predictive accuracy: 0.612\n"
          ],
          "name": "stdout"
        }
      ]
    },
    {
      "cell_type": "markdown",
      "metadata": {
        "id": "KrAvUYTV80ew"
      },
      "source": [
        "**Low Birth Weight** Random Forest Classifier model"
      ]
    },
    {
      "cell_type": "code",
      "metadata": {
        "colab": {
          "base_uri": "https://localhost:8080/"
        },
        "id": "z7wzgd4i88sJ",
        "outputId": "01d1990e-3ea6-425e-9c33-9cc2ccb8406c"
      },
      "source": [
        "X = X_air_data\n",
        "y = y_Low_birth_weight\n",
        "\n",
        "# Split training/test datasets\n",
        "X_train, X_test, y_train, y_test = train_test_split(X, y, random_state=78)\n",
        "\n",
        "# Create a StandardScaler instance\n",
        "scaler = StandardScaler()\n",
        "# scaler = MinMaxScaler()\n",
        "# scaler = RobustScaler()\n",
        "\n",
        "\n",
        "# Fit the StandardScaler\n",
        "X_scaler = scaler.fit(X_train)\n",
        "\n",
        "# Scale the data\n",
        "X_train_scaled = X_scaler.transform(X_train)\n",
        "X_test_scaled = X_scaler.transform(X_test)\n",
        "\n",
        "# Create a random forest classifier.\n",
        "rf_model = RandomForestClassifier(n_estimators=128, random_state=78)\n",
        "\n",
        "# Fitting the model\n",
        "rf_model = rf_model.fit(X_train_scaled, y_train)\n",
        "\n",
        "# Evaluate the model\n",
        "y_pred = rf_model.predict(X_test_scaled)\n",
        "print(f\" Random forest predictive accuracy: {accuracy_score(y_test,y_pred):.3f}\")"
      ],
      "execution_count": 12,
      "outputs": [
        {
          "output_type": "stream",
          "text": [
            " Random forest predictive accuracy: 0.666\n"
          ],
          "name": "stdout"
        }
      ]
    },
    {
      "cell_type": "markdown",
      "metadata": {
        "id": "MnGMXinJ9e0E"
      },
      "source": [
        "**Cardiovascular disease** Random Forest Classifier model"
      ]
    },
    {
      "cell_type": "code",
      "metadata": {
        "colab": {
          "base_uri": "https://localhost:8080/"
        },
        "id": "GS0uyjxO9eKx",
        "outputId": "656a7fb9-0930-4b3c-f560-a03c96fc704a"
      },
      "source": [
        "X = X_air_data\n",
        "y = y_Cardiovascular_disease\n",
        "\n",
        "# Split training/test datasets\n",
        "X_train, X_test, y_train, y_test = train_test_split(X, y, random_state=78)\n",
        "\n",
        "# Create a StandardScaler instance\n",
        "scaler = StandardScaler()\n",
        "# scaler = MinMaxScaler()\n",
        "# scaler = RobustScaler()\n",
        "\n",
        "\n",
        "# Fit the StandardScaler\n",
        "X_scaler = scaler.fit(X_train)\n",
        "\n",
        "# Scale the data\n",
        "X_train_scaled = X_scaler.transform(X_train)\n",
        "X_test_scaled = X_scaler.transform(X_test)\n",
        "\n",
        "# Create a random forest classifier.\n",
        "rf_model = RandomForestClassifier(n_estimators=128, random_state=78)\n",
        "\n",
        "# Fitting the model\n",
        "rf_model = rf_model.fit(X_train_scaled, y_train)\n",
        "\n",
        "# Evaluate the model\n",
        "y_pred = rf_model.predict(X_test_scaled)\n",
        "print(f\" Random forest predictive accuracy: {accuracy_score(y_test,y_pred):.3f}\")"
      ],
      "execution_count": 13,
      "outputs": [
        {
          "output_type": "stream",
          "text": [
            " Random forest predictive accuracy: 0.599\n"
          ],
          "name": "stdout"
        }
      ]
    },
    {
      "cell_type": "markdown",
      "metadata": {
        "id": "sprObC78-Fxx"
      },
      "source": [
        "**Poverty** Random Forest Classifier model\n"
      ]
    },
    {
      "cell_type": "code",
      "metadata": {
        "colab": {
          "base_uri": "https://localhost:8080/"
        },
        "id": "SeaDwK96-PhG",
        "outputId": "263043f6-7db3-4a90-eb12-4712d33010bf"
      },
      "source": [
        "X = X_air_data\n",
        "y = y_Poverty\n",
        "\n",
        "# Split training/test datasets\n",
        "X_train, X_test, y_train, y_test = train_test_split(X, y, random_state=78)\n",
        "\n",
        "# Create a StandardScaler instance\n",
        "scaler = StandardScaler()\n",
        "# scaler = MinMaxScaler()\n",
        "# scaler = RobustScaler()\n",
        "\n",
        "\n",
        "# Fit the StandardScaler\n",
        "X_scaler = scaler.fit(X_train)\n",
        "\n",
        "# Scale the data\n",
        "X_train_scaled = X_scaler.transform(X_train)\n",
        "X_test_scaled = X_scaler.transform(X_test)\n",
        "\n",
        "# Create a random forest classifier.\n",
        "rf_model = RandomForestClassifier(n_estimators=128, random_state=78)\n",
        "\n",
        "# Fitting the model\n",
        "rf_model = rf_model.fit(X_train_scaled, y_train)\n",
        "\n",
        "# Evaluate the model\n",
        "y_pred = rf_model.predict(X_test_scaled)\n",
        "print(f\" Random forest predictive accuracy: {accuracy_score(y_test,y_pred):.3f}\")"
      ],
      "execution_count": 14,
      "outputs": [
        {
          "output_type": "stream",
          "text": [
            " Random forest predictive accuracy: 0.493\n"
          ],
          "name": "stdout"
        }
      ]
    },
    {
      "cell_type": "markdown",
      "metadata": {
        "id": "qAOMwuF4-SdL"
      },
      "source": [
        "**Unemployment** Random Forest Classifier model"
      ]
    },
    {
      "cell_type": "code",
      "metadata": {
        "colab": {
          "base_uri": "https://localhost:8080/"
        },
        "id": "PNQ2jA5t-aIf",
        "outputId": "a47123d0-5b85-49b6-dc73-e4773d830fb7"
      },
      "source": [
        "X = X_air_data\n",
        "y = y_Unemployment\n",
        "\n",
        "# Split training/test datasets\n",
        "X_train, X_test, y_train, y_test = train_test_split(X, y, random_state=78)\n",
        "\n",
        "# Create a StandardScaler instance\n",
        "scaler = StandardScaler()\n",
        "# scaler = MinMaxScaler()\n",
        "# scaler = RobustScaler()\n",
        "\n",
        "\n",
        "# Fit the StandardScaler\n",
        "X_scaler = scaler.fit(X_train)\n",
        "\n",
        "# Scale the data\n",
        "X_train_scaled = X_scaler.transform(X_train)\n",
        "X_test_scaled = X_scaler.transform(X_test)\n",
        "\n",
        "# Create a random forest classifier.\n",
        "rf_model = RandomForestClassifier(n_estimators=128, random_state=78)\n",
        "\n",
        "# Fitting the model\n",
        "rf_model = rf_model.fit(X_train_scaled, y_train)\n",
        "\n",
        "# Evaluate the model\n",
        "y_pred = rf_model.predict(X_test_scaled)\n",
        "print(f\" Random forest predictive accuracy: {accuracy_score(y_test,y_pred):.3f}\")"
      ],
      "execution_count": 15,
      "outputs": [
        {
          "output_type": "stream",
          "text": [
            " Random forest predictive accuracy: 0.442\n"
          ],
          "name": "stdout"
        }
      ]
    },
    {
      "cell_type": "code",
      "metadata": {
        "id": "U8l-uvvp-OM5"
      },
      "source": [
        ""
      ],
      "execution_count": null,
      "outputs": []
    }
  ]
}