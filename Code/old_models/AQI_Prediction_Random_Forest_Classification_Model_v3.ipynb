{
  "nbformat": 4,
  "nbformat_minor": 0,
  "metadata": {
    "colab": {
      "name": "AQI_Prediction_Random_Forest_Classification_Model",
      "provenance": [],
      "collapsed_sections": []
    },
    "kernelspec": {
      "name": "python3",
      "display_name": "Python 3"
    },
    "language_info": {
      "name": "python"
    }
  },
  "cells": [
    {
      "cell_type": "code",
      "metadata": {
        "id": "A4iYgxyssEkG"
      },
      "source": [
        "# Import our dependencies\n",
        "from sklearn.model_selection import train_test_split\n",
        "from sklearn.preprocessing import StandardScaler, MinMaxScaler, RobustScaler\n",
        "from sklearn.ensemble import RandomForestClassifier, RandomForestRegressor\n",
        "from sklearn.metrics import accuracy_score, confusion_matrix, classification_report\n",
        "from sklearn.preprocessing import OneHotEncoder\n",
        "import pandas as pd\n",
        "import tensorflow as tf\n",
        "import matplotlib.pyplot as plt"
      ],
      "execution_count": 1,
      "outputs": []
    },
    {
      "cell_type": "markdown",
      "metadata": {
        "id": "LLV9xN9isdKR"
      },
      "source": [
        "Load dataset"
      ]
    },
    {
      "cell_type": "code",
      "metadata": {
        "colab": {
          "base_uri": "https://localhost:8080/",
          "height": 221
        },
        "id": "7STbfSY8sevM",
        "outputId": "f6cd722d-87a9-4a71-929e-ee197125a339"
      },
      "source": [
        "data_df = pd.read_csv(\"https://raw.githubusercontent.com/joshuanallen/Air_Quality_Prediction/main/datasets/clean_data.csv\")\n",
        "data_df.head()"
      ],
      "execution_count": 2,
      "outputs": [
        {
          "output_type": "execute_result",
          "data": {
            "text/html": [
              "<div>\n",
              "<style scoped>\n",
              "    .dataframe tbody tr th:only-of-type {\n",
              "        vertical-align: middle;\n",
              "    }\n",
              "\n",
              "    .dataframe tbody tr th {\n",
              "        vertical-align: top;\n",
              "    }\n",
              "\n",
              "    .dataframe thead th {\n",
              "        text-align: right;\n",
              "    }\n",
              "</style>\n",
              "<table border=\"1\" class=\"dataframe\">\n",
              "  <thead>\n",
              "    <tr style=\"text-align: right;\">\n",
              "      <th></th>\n",
              "      <th>Unnamed: 0</th>\n",
              "      <th>Census Tract</th>\n",
              "      <th>Total Population</th>\n",
              "      <th>ZIP</th>\n",
              "      <th>Longitude</th>\n",
              "      <th>Latitude</th>\n",
              "      <th>Ozone</th>\n",
              "      <th>PM2.5</th>\n",
              "      <th>Diesel PM</th>\n",
              "      <th>Pesticides</th>\n",
              "      <th>Tox. Release</th>\n",
              "      <th>Traffic</th>\n",
              "      <th>Asthma</th>\n",
              "      <th>Low Birth Weight</th>\n",
              "      <th>Cardiovascular Disease</th>\n",
              "      <th>Poverty</th>\n",
              "      <th>Unemployment</th>\n",
              "    </tr>\n",
              "  </thead>\n",
              "  <tbody>\n",
              "    <tr>\n",
              "      <th>0</th>\n",
              "      <td>0</td>\n",
              "      <td>6019001100</td>\n",
              "      <td>3174</td>\n",
              "      <td>93706</td>\n",
              "      <td>-119.781696</td>\n",
              "      <td>36.709695</td>\n",
              "      <td>0.065</td>\n",
              "      <td>15.40</td>\n",
              "      <td>48.524</td>\n",
              "      <td>2.75</td>\n",
              "      <td>18551.957190</td>\n",
              "      <td>909.14</td>\n",
              "      <td>131.64</td>\n",
              "      <td>7.44</td>\n",
              "      <td>14.13</td>\n",
              "      <td>76.3</td>\n",
              "      <td>17.6</td>\n",
              "    </tr>\n",
              "    <tr>\n",
              "      <th>1</th>\n",
              "      <td>1</td>\n",
              "      <td>6071001600</td>\n",
              "      <td>6133</td>\n",
              "      <td>91761</td>\n",
              "      <td>-117.618013</td>\n",
              "      <td>34.057780</td>\n",
              "      <td>0.062</td>\n",
              "      <td>13.31</td>\n",
              "      <td>38.556</td>\n",
              "      <td>1.37</td>\n",
              "      <td>7494.236622</td>\n",
              "      <td>782.26</td>\n",
              "      <td>60.66</td>\n",
              "      <td>7.04</td>\n",
              "      <td>12.94</td>\n",
              "      <td>72.5</td>\n",
              "      <td>12.3</td>\n",
              "    </tr>\n",
              "    <tr>\n",
              "      <th>2</th>\n",
              "      <td>2</td>\n",
              "      <td>6019000200</td>\n",
              "      <td>3167</td>\n",
              "      <td>93706</td>\n",
              "      <td>-119.805504</td>\n",
              "      <td>36.735491</td>\n",
              "      <td>0.062</td>\n",
              "      <td>15.40</td>\n",
              "      <td>47.445</td>\n",
              "      <td>3.03</td>\n",
              "      <td>12454.948410</td>\n",
              "      <td>576.52</td>\n",
              "      <td>142.12</td>\n",
              "      <td>10.16</td>\n",
              "      <td>14.96</td>\n",
              "      <td>86.8</td>\n",
              "      <td>16.1</td>\n",
              "    </tr>\n",
              "    <tr>\n",
              "      <th>3</th>\n",
              "      <td>3</td>\n",
              "      <td>6077000801</td>\n",
              "      <td>6692</td>\n",
              "      <td>95203</td>\n",
              "      <td>-121.314524</td>\n",
              "      <td>37.940517</td>\n",
              "      <td>0.046</td>\n",
              "      <td>12.54</td>\n",
              "      <td>24.117</td>\n",
              "      <td>12.93</td>\n",
              "      <td>2387.782922</td>\n",
              "      <td>1305.01</td>\n",
              "      <td>142.17</td>\n",
              "      <td>6.23</td>\n",
              "      <td>14.72</td>\n",
              "      <td>61.3</td>\n",
              "      <td>19.6</td>\n",
              "    </tr>\n",
              "    <tr>\n",
              "      <th>4</th>\n",
              "      <td>4</td>\n",
              "      <td>6019001500</td>\n",
              "      <td>2206</td>\n",
              "      <td>93725</td>\n",
              "      <td>-119.717843</td>\n",
              "      <td>36.681600</td>\n",
              "      <td>0.065</td>\n",
              "      <td>15.40</td>\n",
              "      <td>18.846</td>\n",
              "      <td>3518.41</td>\n",
              "      <td>21790.706720</td>\n",
              "      <td>435.16</td>\n",
              "      <td>90.48</td>\n",
              "      <td>4.50</td>\n",
              "      <td>12.82</td>\n",
              "      <td>66.4</td>\n",
              "      <td>18.6</td>\n",
              "    </tr>\n",
              "  </tbody>\n",
              "</table>\n",
              "</div>"
            ],
            "text/plain": [
              "   Unnamed: 0  Census Tract  ...  Poverty  Unemployment\n",
              "0           0    6019001100  ...     76.3          17.6\n",
              "1           1    6071001600  ...     72.5          12.3\n",
              "2           2    6019000200  ...     86.8          16.1\n",
              "3           3    6077000801  ...     61.3          19.6\n",
              "4           4    6019001500  ...     66.4          18.6\n",
              "\n",
              "[5 rows x 17 columns]"
            ]
          },
          "metadata": {
            "tags": []
          },
          "execution_count": 2
        }
      ]
    },
    {
      "cell_type": "markdown",
      "metadata": {
        "id": "jbwXG10JsffL"
      },
      "source": [
        "Drop unecessary columns"
      ]
    },
    {
      "cell_type": "code",
      "metadata": {
        "colab": {
          "base_uri": "https://localhost:8080/",
          "height": 204
        },
        "id": "_ulaZDHtsjYl",
        "outputId": "9236e0aa-d07d-4fc4-9821-9471594d28f1"
      },
      "source": [
        "drop_loc_data_df = data_df[[\"Ozone\", \"PM2.5\", \"Diesel PM\", \"Pesticides\", \"Tox. Release\", \"Traffic\", \"Asthma\", \"Low Birth Weight\", \"Cardiovascular Disease\", \"Poverty\", \"Unemployment\"]]\n",
        "drop_loc_data_df.head()"
      ],
      "execution_count": 3,
      "outputs": [
        {
          "output_type": "execute_result",
          "data": {
            "text/html": [
              "<div>\n",
              "<style scoped>\n",
              "    .dataframe tbody tr th:only-of-type {\n",
              "        vertical-align: middle;\n",
              "    }\n",
              "\n",
              "    .dataframe tbody tr th {\n",
              "        vertical-align: top;\n",
              "    }\n",
              "\n",
              "    .dataframe thead th {\n",
              "        text-align: right;\n",
              "    }\n",
              "</style>\n",
              "<table border=\"1\" class=\"dataframe\">\n",
              "  <thead>\n",
              "    <tr style=\"text-align: right;\">\n",
              "      <th></th>\n",
              "      <th>Ozone</th>\n",
              "      <th>PM2.5</th>\n",
              "      <th>Diesel PM</th>\n",
              "      <th>Pesticides</th>\n",
              "      <th>Tox. Release</th>\n",
              "      <th>Traffic</th>\n",
              "      <th>Asthma</th>\n",
              "      <th>Low Birth Weight</th>\n",
              "      <th>Cardiovascular Disease</th>\n",
              "      <th>Poverty</th>\n",
              "      <th>Unemployment</th>\n",
              "    </tr>\n",
              "  </thead>\n",
              "  <tbody>\n",
              "    <tr>\n",
              "      <th>0</th>\n",
              "      <td>0.065</td>\n",
              "      <td>15.40</td>\n",
              "      <td>48.524</td>\n",
              "      <td>2.75</td>\n",
              "      <td>18551.957190</td>\n",
              "      <td>909.14</td>\n",
              "      <td>131.64</td>\n",
              "      <td>7.44</td>\n",
              "      <td>14.13</td>\n",
              "      <td>76.3</td>\n",
              "      <td>17.6</td>\n",
              "    </tr>\n",
              "    <tr>\n",
              "      <th>1</th>\n",
              "      <td>0.062</td>\n",
              "      <td>13.31</td>\n",
              "      <td>38.556</td>\n",
              "      <td>1.37</td>\n",
              "      <td>7494.236622</td>\n",
              "      <td>782.26</td>\n",
              "      <td>60.66</td>\n",
              "      <td>7.04</td>\n",
              "      <td>12.94</td>\n",
              "      <td>72.5</td>\n",
              "      <td>12.3</td>\n",
              "    </tr>\n",
              "    <tr>\n",
              "      <th>2</th>\n",
              "      <td>0.062</td>\n",
              "      <td>15.40</td>\n",
              "      <td>47.445</td>\n",
              "      <td>3.03</td>\n",
              "      <td>12454.948410</td>\n",
              "      <td>576.52</td>\n",
              "      <td>142.12</td>\n",
              "      <td>10.16</td>\n",
              "      <td>14.96</td>\n",
              "      <td>86.8</td>\n",
              "      <td>16.1</td>\n",
              "    </tr>\n",
              "    <tr>\n",
              "      <th>3</th>\n",
              "      <td>0.046</td>\n",
              "      <td>12.54</td>\n",
              "      <td>24.117</td>\n",
              "      <td>12.93</td>\n",
              "      <td>2387.782922</td>\n",
              "      <td>1305.01</td>\n",
              "      <td>142.17</td>\n",
              "      <td>6.23</td>\n",
              "      <td>14.72</td>\n",
              "      <td>61.3</td>\n",
              "      <td>19.6</td>\n",
              "    </tr>\n",
              "    <tr>\n",
              "      <th>4</th>\n",
              "      <td>0.065</td>\n",
              "      <td>15.40</td>\n",
              "      <td>18.846</td>\n",
              "      <td>3518.41</td>\n",
              "      <td>21790.706720</td>\n",
              "      <td>435.16</td>\n",
              "      <td>90.48</td>\n",
              "      <td>4.50</td>\n",
              "      <td>12.82</td>\n",
              "      <td>66.4</td>\n",
              "      <td>18.6</td>\n",
              "    </tr>\n",
              "  </tbody>\n",
              "</table>\n",
              "</div>"
            ],
            "text/plain": [
              "   Ozone  PM2.5  Diesel PM  ...  Cardiovascular Disease  Poverty  Unemployment\n",
              "0  0.065  15.40     48.524  ...                   14.13     76.3          17.6\n",
              "1  0.062  13.31     38.556  ...                   12.94     72.5          12.3\n",
              "2  0.062  15.40     47.445  ...                   14.96     86.8          16.1\n",
              "3  0.046  12.54     24.117  ...                   14.72     61.3          19.6\n",
              "4  0.065  15.40     18.846  ...                   12.82     66.4          18.6\n",
              "\n",
              "[5 rows x 11 columns]"
            ]
          },
          "metadata": {
            "tags": []
          },
          "execution_count": 3
        }
      ]
    },
    {
      "cell_type": "markdown",
      "metadata": {
        "id": "--Bu8dCCyWCI"
      },
      "source": [
        "Check for missing data"
      ]
    },
    {
      "cell_type": "code",
      "metadata": {
        "colab": {
          "base_uri": "https://localhost:8080/"
        },
        "id": "gLY8QEI-yXjU",
        "outputId": "bd2b0a24-5be7-498f-8235-e5949b5042e8"
      },
      "source": [
        "print(drop_loc_data_df.isnull().sum())"
      ],
      "execution_count": 4,
      "outputs": [
        {
          "output_type": "stream",
          "text": [
            "Ozone                     0\n",
            "PM2.5                     0\n",
            "Diesel PM                 0\n",
            "Pesticides                0\n",
            "Tox. Release              0\n",
            "Traffic                   0\n",
            "Asthma                    0\n",
            "Low Birth Weight          0\n",
            "Cardiovascular Disease    0\n",
            "Poverty                   0\n",
            "Unemployment              0\n",
            "dtype: int64\n"
          ],
          "name": "stdout"
        }
      ]
    },
    {
      "cell_type": "markdown",
      "metadata": {
        "id": "dMRGxx87yZHP"
      },
      "source": [
        "Summarize dataset to help with binning"
      ]
    },
    {
      "cell_type": "code",
      "metadata": {
        "colab": {
          "base_uri": "https://localhost:8080/",
          "height": 297
        },
        "id": "VXaYihVkyb2n",
        "outputId": "c99458c5-7af1-4b7d-ad8b-7cacbf75336c"
      },
      "source": [
        "drop_loc_data_df.describe()"
      ],
      "execution_count": 5,
      "outputs": [
        {
          "output_type": "execute_result",
          "data": {
            "text/html": [
              "<div>\n",
              "<style scoped>\n",
              "    .dataframe tbody tr th:only-of-type {\n",
              "        vertical-align: middle;\n",
              "    }\n",
              "\n",
              "    .dataframe tbody tr th {\n",
              "        vertical-align: top;\n",
              "    }\n",
              "\n",
              "    .dataframe thead th {\n",
              "        text-align: right;\n",
              "    }\n",
              "</style>\n",
              "<table border=\"1\" class=\"dataframe\">\n",
              "  <thead>\n",
              "    <tr style=\"text-align: right;\">\n",
              "      <th></th>\n",
              "      <th>Ozone</th>\n",
              "      <th>PM2.5</th>\n",
              "      <th>Diesel PM</th>\n",
              "      <th>Pesticides</th>\n",
              "      <th>Tox. Release</th>\n",
              "      <th>Traffic</th>\n",
              "      <th>Asthma</th>\n",
              "      <th>Low Birth Weight</th>\n",
              "      <th>Cardiovascular Disease</th>\n",
              "      <th>Poverty</th>\n",
              "      <th>Unemployment</th>\n",
              "    </tr>\n",
              "  </thead>\n",
              "  <tbody>\n",
              "    <tr>\n",
              "      <th>count</th>\n",
              "      <td>7712.000000</td>\n",
              "      <td>7712.000000</td>\n",
              "      <td>7712.000000</td>\n",
              "      <td>7712.000000</td>\n",
              "      <td>7712.000000</td>\n",
              "      <td>7712.000000</td>\n",
              "      <td>7712.000000</td>\n",
              "      <td>7712.000000</td>\n",
              "      <td>7712.000000</td>\n",
              "      <td>7712.000000</td>\n",
              "      <td>7712.000000</td>\n",
              "    </tr>\n",
              "    <tr>\n",
              "      <th>mean</th>\n",
              "      <td>0.047426</td>\n",
              "      <td>10.420606</td>\n",
              "      <td>19.348765</td>\n",
              "      <td>320.518047</td>\n",
              "      <td>3204.873215</td>\n",
              "      <td>953.325455</td>\n",
              "      <td>52.503613</td>\n",
              "      <td>4.980663</td>\n",
              "      <td>8.320344</td>\n",
              "      <td>36.412202</td>\n",
              "      <td>10.182923</td>\n",
              "    </tr>\n",
              "    <tr>\n",
              "      <th>std</th>\n",
              "      <td>0.010220</td>\n",
              "      <td>2.568878</td>\n",
              "      <td>16.469596</td>\n",
              "      <td>2822.298975</td>\n",
              "      <td>12652.368968</td>\n",
              "      <td>913.593370</td>\n",
              "      <td>30.330867</td>\n",
              "      <td>1.550364</td>\n",
              "      <td>2.929641</td>\n",
              "      <td>20.251424</td>\n",
              "      <td>4.957414</td>\n",
              "    </tr>\n",
              "    <tr>\n",
              "      <th>min</th>\n",
              "      <td>0.026000</td>\n",
              "      <td>1.869001</td>\n",
              "      <td>0.021000</td>\n",
              "      <td>0.000000</td>\n",
              "      <td>0.000000</td>\n",
              "      <td>22.410000</td>\n",
              "      <td>3.630000</td>\n",
              "      <td>0.000000</td>\n",
              "      <td>1.560000</td>\n",
              "      <td>1.000000</td>\n",
              "      <td>0.000000</td>\n",
              "    </tr>\n",
              "    <tr>\n",
              "      <th>25%</th>\n",
              "      <td>0.040000</td>\n",
              "      <td>8.697944</td>\n",
              "      <td>9.172000</td>\n",
              "      <td>0.000000</td>\n",
              "      <td>103.800931</td>\n",
              "      <td>450.047500</td>\n",
              "      <td>30.420000</td>\n",
              "      <td>3.960000</td>\n",
              "      <td>6.140000</td>\n",
              "      <td>19.200000</td>\n",
              "      <td>6.600000</td>\n",
              "    </tr>\n",
              "    <tr>\n",
              "      <th>50%</th>\n",
              "      <td>0.046000</td>\n",
              "      <td>10.370000</td>\n",
              "      <td>16.725500</td>\n",
              "      <td>0.000000</td>\n",
              "      <td>489.912078</td>\n",
              "      <td>706.890000</td>\n",
              "      <td>45.900000</td>\n",
              "      <td>4.920000</td>\n",
              "      <td>8.005000</td>\n",
              "      <td>33.600000</td>\n",
              "      <td>9.300000</td>\n",
              "    </tr>\n",
              "    <tr>\n",
              "      <th>75%</th>\n",
              "      <td>0.055000</td>\n",
              "      <td>12.050000</td>\n",
              "      <td>24.740750</td>\n",
              "      <td>0.360000</td>\n",
              "      <td>3571.025854</td>\n",
              "      <td>1207.335000</td>\n",
              "      <td>66.430000</td>\n",
              "      <td>5.930000</td>\n",
              "      <td>10.080000</td>\n",
              "      <td>51.600000</td>\n",
              "      <td>12.800000</td>\n",
              "    </tr>\n",
              "    <tr>\n",
              "      <th>max</th>\n",
              "      <td>0.068000</td>\n",
              "      <td>19.600000</td>\n",
              "      <td>208.400000</td>\n",
              "      <td>91316.190000</td>\n",
              "      <td>842751.329300</td>\n",
              "      <td>45687.870000</td>\n",
              "      <td>223.300000</td>\n",
              "      <td>14.890000</td>\n",
              "      <td>21.260000</td>\n",
              "      <td>94.900000</td>\n",
              "      <td>60.500000</td>\n",
              "    </tr>\n",
              "  </tbody>\n",
              "</table>\n",
              "</div>"
            ],
            "text/plain": [
              "             Ozone        PM2.5  ...      Poverty  Unemployment\n",
              "count  7712.000000  7712.000000  ...  7712.000000   7712.000000\n",
              "mean      0.047426    10.420606  ...    36.412202     10.182923\n",
              "std       0.010220     2.568878  ...    20.251424      4.957414\n",
              "min       0.026000     1.869001  ...     1.000000      0.000000\n",
              "25%       0.040000     8.697944  ...    19.200000      6.600000\n",
              "50%       0.046000    10.370000  ...    33.600000      9.300000\n",
              "75%       0.055000    12.050000  ...    51.600000     12.800000\n",
              "max       0.068000    19.600000  ...    94.900000     60.500000\n",
              "\n",
              "[8 rows x 11 columns]"
            ]
          },
          "metadata": {
            "tags": []
          },
          "execution_count": 5
        }
      ]
    },
    {
      "cell_type": "markdown",
      "metadata": {
        "id": "o6R_A_wN5iY9"
      },
      "source": [
        "Bin continuous variables for classification"
      ]
    },
    {
      "cell_type": "code",
      "metadata": {
        "colab": {
          "base_uri": "https://localhost:8080/",
          "height": 697
        },
        "id": "4boE5I4A0PJ_",
        "outputId": "9504f90a-8beb-4d88-e9db-e3948651350f"
      },
      "source": [
        "# Asthma Binning\n",
        "asthma_bins = [0, 25, 50, 75, 100, 125, 150, 175, 200, 225]\n",
        "\n",
        "asthma_labels =[1,2,3,4,5,6,7,8,9]\n",
        "\n",
        "drop_loc_data_df['Asthma_binned'] = pd.cut(drop_loc_data_df[\"Asthma\"], bins = asthma_bins, labels = asthma_labels, include_lowest=True)\n",
        "\n",
        "\n",
        "# Low birth weight binning\n",
        "lbw_bins = [0, 3, 6, 9, 12, 15]\n",
        "\n",
        "lbw_labels =[1,2,3,4,5]\n",
        "\n",
        "drop_loc_data_df['LBW_binned'] = pd.cut(drop_loc_data_df[\"Low Birth Weight\"], bins = lbw_bins, labels = lbw_labels, include_lowest=True)\n",
        "\n",
        "\n",
        "# Cardiovascular Disease Binning\n",
        "cvd_bins = [0, 3, 6, 9, 12, 14, 16, 18, 20, 22]\n",
        "\n",
        "cvd_labels =[1,2,3,4,5,6,7,8,9]\n",
        "\n",
        "drop_loc_data_df['CVD_binned'] = pd.cut(drop_loc_data_df[\"Cardiovascular Disease\"], bins = cvd_bins, labels = cvd_labels, include_lowest=True)\n",
        "\n",
        "\n",
        "# Poverty\n",
        "poverty_bins = [0, 20, 40, 60, 80, 100]\n",
        "\n",
        "poverty_labels =[1,2,3,4,5]\n",
        "\n",
        "drop_loc_data_df['Poverty_binned'] = pd.cut(drop_loc_data_df[\"Poverty\"], bins = poverty_bins, labels = poverty_labels, include_lowest=True)\n",
        "\n",
        "\n",
        "# Unemployment\n",
        "ue_bins = [0, 5, 10, 15, 20, 25, 100]\n",
        "\n",
        "ue_labels =[1,2,3,4,5,6]\n",
        "\n",
        "drop_loc_data_df['Unemployment_binned'] = pd.cut(drop_loc_data_df[\"Unemployment\"], bins = ue_bins, labels = ue_labels, include_lowest=True)\n",
        "\n",
        "\n",
        "drop_loc_data_df.head()"
      ],
      "execution_count": 6,
      "outputs": [
        {
          "output_type": "stream",
          "text": [
            "/usr/local/lib/python3.7/dist-packages/ipykernel_launcher.py:6: SettingWithCopyWarning: \n",
            "A value is trying to be set on a copy of a slice from a DataFrame.\n",
            "Try using .loc[row_indexer,col_indexer] = value instead\n",
            "\n",
            "See the caveats in the documentation: https://pandas.pydata.org/pandas-docs/stable/user_guide/indexing.html#returning-a-view-versus-a-copy\n",
            "  \n",
            "/usr/local/lib/python3.7/dist-packages/ipykernel_launcher.py:14: SettingWithCopyWarning: \n",
            "A value is trying to be set on a copy of a slice from a DataFrame.\n",
            "Try using .loc[row_indexer,col_indexer] = value instead\n",
            "\n",
            "See the caveats in the documentation: https://pandas.pydata.org/pandas-docs/stable/user_guide/indexing.html#returning-a-view-versus-a-copy\n",
            "  \n",
            "/usr/local/lib/python3.7/dist-packages/ipykernel_launcher.py:22: SettingWithCopyWarning: \n",
            "A value is trying to be set on a copy of a slice from a DataFrame.\n",
            "Try using .loc[row_indexer,col_indexer] = value instead\n",
            "\n",
            "See the caveats in the documentation: https://pandas.pydata.org/pandas-docs/stable/user_guide/indexing.html#returning-a-view-versus-a-copy\n",
            "/usr/local/lib/python3.7/dist-packages/ipykernel_launcher.py:30: SettingWithCopyWarning: \n",
            "A value is trying to be set on a copy of a slice from a DataFrame.\n",
            "Try using .loc[row_indexer,col_indexer] = value instead\n",
            "\n",
            "See the caveats in the documentation: https://pandas.pydata.org/pandas-docs/stable/user_guide/indexing.html#returning-a-view-versus-a-copy\n",
            "/usr/local/lib/python3.7/dist-packages/ipykernel_launcher.py:38: SettingWithCopyWarning: \n",
            "A value is trying to be set on a copy of a slice from a DataFrame.\n",
            "Try using .loc[row_indexer,col_indexer] = value instead\n",
            "\n",
            "See the caveats in the documentation: https://pandas.pydata.org/pandas-docs/stable/user_guide/indexing.html#returning-a-view-versus-a-copy\n"
          ],
          "name": "stderr"
        },
        {
          "output_type": "execute_result",
          "data": {
            "text/html": [
              "<div>\n",
              "<style scoped>\n",
              "    .dataframe tbody tr th:only-of-type {\n",
              "        vertical-align: middle;\n",
              "    }\n",
              "\n",
              "    .dataframe tbody tr th {\n",
              "        vertical-align: top;\n",
              "    }\n",
              "\n",
              "    .dataframe thead th {\n",
              "        text-align: right;\n",
              "    }\n",
              "</style>\n",
              "<table border=\"1\" class=\"dataframe\">\n",
              "  <thead>\n",
              "    <tr style=\"text-align: right;\">\n",
              "      <th></th>\n",
              "      <th>Ozone</th>\n",
              "      <th>PM2.5</th>\n",
              "      <th>Diesel PM</th>\n",
              "      <th>Pesticides</th>\n",
              "      <th>Tox. Release</th>\n",
              "      <th>Traffic</th>\n",
              "      <th>Asthma</th>\n",
              "      <th>Low Birth Weight</th>\n",
              "      <th>Cardiovascular Disease</th>\n",
              "      <th>Poverty</th>\n",
              "      <th>Unemployment</th>\n",
              "      <th>Asthma_binned</th>\n",
              "      <th>LBW_binned</th>\n",
              "      <th>CVD_binned</th>\n",
              "      <th>Poverty_binned</th>\n",
              "      <th>Unemployment_binned</th>\n",
              "    </tr>\n",
              "  </thead>\n",
              "  <tbody>\n",
              "    <tr>\n",
              "      <th>0</th>\n",
              "      <td>0.065</td>\n",
              "      <td>15.40</td>\n",
              "      <td>48.524</td>\n",
              "      <td>2.75</td>\n",
              "      <td>18551.957190</td>\n",
              "      <td>909.14</td>\n",
              "      <td>131.64</td>\n",
              "      <td>7.44</td>\n",
              "      <td>14.13</td>\n",
              "      <td>76.3</td>\n",
              "      <td>17.6</td>\n",
              "      <td>6</td>\n",
              "      <td>3</td>\n",
              "      <td>6</td>\n",
              "      <td>4</td>\n",
              "      <td>4</td>\n",
              "    </tr>\n",
              "    <tr>\n",
              "      <th>1</th>\n",
              "      <td>0.062</td>\n",
              "      <td>13.31</td>\n",
              "      <td>38.556</td>\n",
              "      <td>1.37</td>\n",
              "      <td>7494.236622</td>\n",
              "      <td>782.26</td>\n",
              "      <td>60.66</td>\n",
              "      <td>7.04</td>\n",
              "      <td>12.94</td>\n",
              "      <td>72.5</td>\n",
              "      <td>12.3</td>\n",
              "      <td>3</td>\n",
              "      <td>3</td>\n",
              "      <td>5</td>\n",
              "      <td>4</td>\n",
              "      <td>3</td>\n",
              "    </tr>\n",
              "    <tr>\n",
              "      <th>2</th>\n",
              "      <td>0.062</td>\n",
              "      <td>15.40</td>\n",
              "      <td>47.445</td>\n",
              "      <td>3.03</td>\n",
              "      <td>12454.948410</td>\n",
              "      <td>576.52</td>\n",
              "      <td>142.12</td>\n",
              "      <td>10.16</td>\n",
              "      <td>14.96</td>\n",
              "      <td>86.8</td>\n",
              "      <td>16.1</td>\n",
              "      <td>6</td>\n",
              "      <td>4</td>\n",
              "      <td>6</td>\n",
              "      <td>5</td>\n",
              "      <td>4</td>\n",
              "    </tr>\n",
              "    <tr>\n",
              "      <th>3</th>\n",
              "      <td>0.046</td>\n",
              "      <td>12.54</td>\n",
              "      <td>24.117</td>\n",
              "      <td>12.93</td>\n",
              "      <td>2387.782922</td>\n",
              "      <td>1305.01</td>\n",
              "      <td>142.17</td>\n",
              "      <td>6.23</td>\n",
              "      <td>14.72</td>\n",
              "      <td>61.3</td>\n",
              "      <td>19.6</td>\n",
              "      <td>6</td>\n",
              "      <td>3</td>\n",
              "      <td>6</td>\n",
              "      <td>4</td>\n",
              "      <td>4</td>\n",
              "    </tr>\n",
              "    <tr>\n",
              "      <th>4</th>\n",
              "      <td>0.065</td>\n",
              "      <td>15.40</td>\n",
              "      <td>18.846</td>\n",
              "      <td>3518.41</td>\n",
              "      <td>21790.706720</td>\n",
              "      <td>435.16</td>\n",
              "      <td>90.48</td>\n",
              "      <td>4.50</td>\n",
              "      <td>12.82</td>\n",
              "      <td>66.4</td>\n",
              "      <td>18.6</td>\n",
              "      <td>4</td>\n",
              "      <td>2</td>\n",
              "      <td>5</td>\n",
              "      <td>4</td>\n",
              "      <td>4</td>\n",
              "    </tr>\n",
              "  </tbody>\n",
              "</table>\n",
              "</div>"
            ],
            "text/plain": [
              "   Ozone  PM2.5  Diesel PM  ...  CVD_binned  Poverty_binned  Unemployment_binned\n",
              "0  0.065  15.40     48.524  ...           6               4                    4\n",
              "1  0.062  13.31     38.556  ...           5               4                    3\n",
              "2  0.062  15.40     47.445  ...           6               5                    4\n",
              "3  0.046  12.54     24.117  ...           6               4                    4\n",
              "4  0.065  15.40     18.846  ...           5               4                    4\n",
              "\n",
              "[5 rows x 16 columns]"
            ]
          },
          "metadata": {
            "tags": []
          },
          "execution_count": 6
        }
      ]
    },
    {
      "cell_type": "markdown",
      "metadata": {
        "id": "OeHVlD1R5hzN"
      },
      "source": [
        "Set feature and target variables"
      ]
    },
    {
      "cell_type": "code",
      "metadata": {
        "id": "J_tzv10d6SGf"
      },
      "source": [
        "# Features\n",
        "X_air_data = drop_loc_data_df[[\"Ozone\", \"PM2.5\", \"Diesel PM\", \"Pesticides\", \"Tox. Release\", \"Traffic\"]]\n",
        "\n",
        "# targets\n",
        "y_Asthma_binned = drop_loc_data_df[\"Asthma_binned\"]\n",
        "y_Low_birth_weight_binned = drop_loc_data_df[\"LBW_binned\"]\n",
        "y_Cardiovascular_disease_binned = drop_loc_data_df[\"CVD_binned\"]\n",
        "y_Poverty_binned = drop_loc_data_df[\"Poverty_binned\"]\n",
        "y_Unemployment_binned = drop_loc_data_df[\"Unemployment_binned\"]"
      ],
      "execution_count": 7,
      "outputs": []
    },
    {
      "cell_type": "markdown",
      "metadata": {
        "id": "775uCA7Y6ccS"
      },
      "source": [
        "Standarize numerical variables\n",
        "\n",
        "1. Split into training and testing datasets\n",
        "2. Scale the feature data\n",
        "3. Train and evaluate the Random Forest Classifier"
      ]
    },
    {
      "cell_type": "markdown",
      "metadata": {
        "id": "a-AyMT6_MgMb"
      },
      "source": [
        "**Asthma** Random Forest Classification Model"
      ]
    },
    {
      "cell_type": "code",
      "metadata": {
        "colab": {
          "base_uri": "https://localhost:8080/",
          "height": 634
        },
        "id": "Jc9a470r6gpP",
        "outputId": "f36b2ac0-ec4b-4c15-b16e-561bce8c2c55"
      },
      "source": [
        "X = X_air_data\n",
        "y = y_Asthma_binned\n",
        "\n",
        "# Split training/test datasets\n",
        "X_train, X_test, y_train, y_test = train_test_split(X, y, random_state=78)\n",
        "\n",
        "# Create a StandardScaler instance\n",
        "scaler = StandardScaler()\n",
        "# scaler = MinMaxScaler()\n",
        "# scaler = RobustScaler()\n",
        "\n",
        "\n",
        "# Fit the StandardScaler\n",
        "X_scaler = scaler.fit(X_train)\n",
        "\n",
        "# Scale the data\n",
        "X_train_scaled = X_scaler.transform(X_train)\n",
        "X_test_scaled = X_scaler.transform(X_test)\n",
        "\n",
        "# Create a random forest classifier.\n",
        "rf_model = RandomForestClassifier(n_estimators=128, random_state=78)\n",
        "\n",
        "# Fitting the model\n",
        "rf_model = rf_model.fit(X_train_scaled, y_train)\n",
        "\n",
        "# Evaluate the model\n",
        "y_pred = rf_model.predict(X_test_scaled)\n",
        "print(f\"Random forest predictive accuracy: {accuracy_score(y_test,y_pred):.3f}\")\n",
        "\n",
        "# Print Classification Report\n",
        "print(\"Classification Report\")\n",
        "print(classification_report(y_test, y_pred))\n",
        "\n",
        "# Visualise classical Confusion Matrix\n",
        "CM = confusion_matrix(y_test, y_pred, labels=asthma_labels)\n",
        "\n",
        "cm_df = pd.DataFrame(CM, \n",
        "                     index = [\"Actual 1\", \"Actual 2\", \"Actual 3\",  \"Actual 4\", \"Actual 5\", \"Actual 6\", \"Actual 7\", \"Actual 8\", \"Actual 9\"],\n",
        "                     columns= [\"Predicted 1\", \"Predicted 2\", \"Predicted 3\", \"Predicted 4\", \"Predicted 5\", \"Predicted 6\", \"Predicted 7\", \"Predicted 8\", \"Predicted 9\"])\n",
        "cm_df"
      ],
      "execution_count": 8,
      "outputs": [
        {
          "output_type": "stream",
          "text": [
            "Random forest predictive accuracy: 0.612\n",
            "Classification Report\n",
            "              precision    recall  f1-score   support\n",
            "\n",
            "           1       0.72      0.58      0.64       292\n",
            "           2       0.64      0.76      0.70       765\n",
            "           3       0.57      0.54      0.55       517\n",
            "           4       0.50      0.49      0.49       212\n",
            "           5       0.49      0.38      0.43        77\n",
            "           6       0.55      0.29      0.38        38\n",
            "           7       0.40      0.33      0.36        18\n",
            "           8       1.00      0.29      0.44         7\n",
            "           9       0.00      0.00      0.00         2\n",
            "\n",
            "    accuracy                           0.61      1928\n",
            "   macro avg       0.54      0.41      0.44      1928\n",
            "weighted avg       0.61      0.61      0.61      1928\n",
            "\n"
          ],
          "name": "stdout"
        },
        {
          "output_type": "execute_result",
          "data": {
            "text/html": [
              "<div>\n",
              "<style scoped>\n",
              "    .dataframe tbody tr th:only-of-type {\n",
              "        vertical-align: middle;\n",
              "    }\n",
              "\n",
              "    .dataframe tbody tr th {\n",
              "        vertical-align: top;\n",
              "    }\n",
              "\n",
              "    .dataframe thead th {\n",
              "        text-align: right;\n",
              "    }\n",
              "</style>\n",
              "<table border=\"1\" class=\"dataframe\">\n",
              "  <thead>\n",
              "    <tr style=\"text-align: right;\">\n",
              "      <th></th>\n",
              "      <th>Predicted 1</th>\n",
              "      <th>Predicted 2</th>\n",
              "      <th>Predicted 3</th>\n",
              "      <th>Predicted 4</th>\n",
              "      <th>Predicted 5</th>\n",
              "      <th>Predicted 6</th>\n",
              "      <th>Predicted 7</th>\n",
              "      <th>Predicted 8</th>\n",
              "      <th>Predicted 9</th>\n",
              "    </tr>\n",
              "  </thead>\n",
              "  <tbody>\n",
              "    <tr>\n",
              "      <th>Actual 1</th>\n",
              "      <td>170</td>\n",
              "      <td>103</td>\n",
              "      <td>15</td>\n",
              "      <td>3</td>\n",
              "      <td>1</td>\n",
              "      <td>0</td>\n",
              "      <td>0</td>\n",
              "      <td>0</td>\n",
              "      <td>0</td>\n",
              "    </tr>\n",
              "    <tr>\n",
              "      <th>Actual 2</th>\n",
              "      <td>51</td>\n",
              "      <td>579</td>\n",
              "      <td>115</td>\n",
              "      <td>16</td>\n",
              "      <td>2</td>\n",
              "      <td>0</td>\n",
              "      <td>2</td>\n",
              "      <td>0</td>\n",
              "      <td>0</td>\n",
              "    </tr>\n",
              "    <tr>\n",
              "      <th>Actual 3</th>\n",
              "      <td>7</td>\n",
              "      <td>171</td>\n",
              "      <td>279</td>\n",
              "      <td>51</td>\n",
              "      <td>6</td>\n",
              "      <td>1</td>\n",
              "      <td>2</td>\n",
              "      <td>0</td>\n",
              "      <td>0</td>\n",
              "    </tr>\n",
              "    <tr>\n",
              "      <th>Actual 4</th>\n",
              "      <td>6</td>\n",
              "      <td>28</td>\n",
              "      <td>60</td>\n",
              "      <td>103</td>\n",
              "      <td>13</td>\n",
              "      <td>2</td>\n",
              "      <td>0</td>\n",
              "      <td>0</td>\n",
              "      <td>0</td>\n",
              "    </tr>\n",
              "    <tr>\n",
              "      <th>Actual 5</th>\n",
              "      <td>2</td>\n",
              "      <td>9</td>\n",
              "      <td>12</td>\n",
              "      <td>21</td>\n",
              "      <td>29</td>\n",
              "      <td>3</td>\n",
              "      <td>1</td>\n",
              "      <td>0</td>\n",
              "      <td>0</td>\n",
              "    </tr>\n",
              "    <tr>\n",
              "      <th>Actual 6</th>\n",
              "      <td>0</td>\n",
              "      <td>6</td>\n",
              "      <td>7</td>\n",
              "      <td>5</td>\n",
              "      <td>7</td>\n",
              "      <td>11</td>\n",
              "      <td>1</td>\n",
              "      <td>0</td>\n",
              "      <td>1</td>\n",
              "    </tr>\n",
              "    <tr>\n",
              "      <th>Actual 7</th>\n",
              "      <td>0</td>\n",
              "      <td>2</td>\n",
              "      <td>1</td>\n",
              "      <td>5</td>\n",
              "      <td>1</td>\n",
              "      <td>3</td>\n",
              "      <td>6</td>\n",
              "      <td>0</td>\n",
              "      <td>0</td>\n",
              "    </tr>\n",
              "    <tr>\n",
              "      <th>Actual 8</th>\n",
              "      <td>0</td>\n",
              "      <td>0</td>\n",
              "      <td>1</td>\n",
              "      <td>2</td>\n",
              "      <td>0</td>\n",
              "      <td>0</td>\n",
              "      <td>2</td>\n",
              "      <td>2</td>\n",
              "      <td>0</td>\n",
              "    </tr>\n",
              "    <tr>\n",
              "      <th>Actual 9</th>\n",
              "      <td>0</td>\n",
              "      <td>0</td>\n",
              "      <td>0</td>\n",
              "      <td>1</td>\n",
              "      <td>0</td>\n",
              "      <td>0</td>\n",
              "      <td>1</td>\n",
              "      <td>0</td>\n",
              "      <td>0</td>\n",
              "    </tr>\n",
              "  </tbody>\n",
              "</table>\n",
              "</div>"
            ],
            "text/plain": [
              "          Predicted 1  Predicted 2  ...  Predicted 8  Predicted 9\n",
              "Actual 1          170          103  ...            0            0\n",
              "Actual 2           51          579  ...            0            0\n",
              "Actual 3            7          171  ...            0            0\n",
              "Actual 4            6           28  ...            0            0\n",
              "Actual 5            2            9  ...            0            0\n",
              "Actual 6            0            6  ...            0            1\n",
              "Actual 7            0            2  ...            0            0\n",
              "Actual 8            0            0  ...            2            0\n",
              "Actual 9            0            0  ...            0            0\n",
              "\n",
              "[9 rows x 9 columns]"
            ]
          },
          "metadata": {
            "tags": []
          },
          "execution_count": 8
        }
      ]
    },
    {
      "cell_type": "code",
      "metadata": {
        "colab": {
          "base_uri": "https://localhost:8080/",
          "height": 342
        },
        "id": "L13zdiisWj-b",
        "outputId": "a101e7bd-8ffa-40a1-a257-7fb1762c1b03"
      },
      "source": [
        "# Visualize it as a heatmap\n",
        "import seaborn\n",
        "seaborn.heatmap(cm_df)\n",
        "\n",
        "plt.title(\"Actual vs Predicted values\")\n",
        "plt.xlabel(\"Predicted values\")\n",
        "plt.ylabel(\"Actual values\")\n",
        "plt.show()"
      ],
      "execution_count": 9,
      "outputs": [
        {
          "output_type": "display_data",
          "data": {
            "image/png": "[encoded data removed]",
            "text/plain": [
              "<Figure size 432x288 with 2 Axes>"
            ]
          },
          "metadata": {
            "tags": [],
            "needs_background": "light"
          }
        }
      ]
    },
    {
      "cell_type": "code",
      "metadata": {
        "colab": {
          "base_uri": "https://localhost:8080/",
          "height": 518
        },
        "id": "lMOodUQFQLXC",
        "outputId": "74f9a76d-c9a1-4883-cadb-2267a3cddb01"
      },
      "source": [
        "importance = rf_model.feature_importances_\n",
        "# summarize feature importance\n",
        "for i,v in enumerate(importance):\n",
        "\tprint('Feature: %0d, Score: %.5f' % (i,v))\n",
        "\n",
        "feature_names = list(X.columns.values)\n",
        "forest_importances = pd.Series(importance, index=feature_names)\n",
        "print(forest_importances)\n",
        "fig, ax = plt.subplots()\n",
        "forest_importances.plot.bar(ax=ax)\n",
        "ax.set_title(\"Feature importances\")\n",
        "ax.set_ylabel(\"Importance\")\n",
        "fig.tight_layout()"
      ],
      "execution_count": 10,
      "outputs": [
        {
          "output_type": "stream",
          "text": [
            "Feature: 0, Score: 0.11161\n",
            "Feature: 1, Score: 0.11597\n",
            "Feature: 2, Score: 0.22383\n",
            "Feature: 3, Score: 0.07767\n",
            "Feature: 4, Score: 0.26848\n",
            "Feature: 5, Score: 0.20244\n",
            "Ozone           0.111607\n",
            "PM2.5           0.115975\n",
            "Diesel PM       0.223831\n",
            "Pesticides      0.077667\n",
            "Tox. Release    0.268476\n",
            "Traffic         0.202445\n",
            "dtype: float64\n"
          ],
          "name": "stdout"
        },
        {
          "output_type": "display_data",
          "data": {
            "image/png": "[encoded data removed]",
            "text/plain": [
              "<Figure size 432x288 with 1 Axes>"
            ]
          },
          "metadata": {
            "tags": [],
            "needs_background": "light"
          }
        }
      ]
    },
    {
      "cell_type": "markdown",
      "metadata": {
        "id": "KrAvUYTV80ew"
      },
      "source": [
        "**Low Birth Weight** Random Forest Classifier model"
      ]
    },
    {
      "cell_type": "code",
      "metadata": {
        "colab": {
          "base_uri": "https://localhost:8080/",
          "height": 496
        },
        "id": "z7wzgd4i88sJ",
        "outputId": "4be039e6-d771-4fbf-f227-fc74d9349f04"
      },
      "source": [
        "X = X_air_data\n",
        "y = y_Low_birth_weight_binned\n",
        "\n",
        "# Split training/test datasets\n",
        "X_train, X_test, y_train, y_test = train_test_split(X, y, random_state=78)\n",
        "\n",
        "# Create a StandardScaler instance\n",
        "scaler = StandardScaler()\n",
        "# scaler = MinMaxScaler()\n",
        "# scaler = RobustScaler()\n",
        "\n",
        "\n",
        "# Fit the StandardScaler\n",
        "X_scaler = scaler.fit(X_train)\n",
        "\n",
        "# Scale the data\n",
        "X_train_scaled = X_scaler.transform(X_train)\n",
        "X_test_scaled = X_scaler.transform(X_test)\n",
        "\n",
        "# Create a random forest classifier.\n",
        "rf_model = RandomForestClassifier(n_estimators=128, random_state=78)\n",
        "\n",
        "# Fitting the model\n",
        "rf_model = rf_model.fit(X_train_scaled, y_train)\n",
        "\n",
        "# Evaluate the model\n",
        "y_pred = rf_model.predict(X_test_scaled)\n",
        "print(f\"Random forest predictive accuracy: {accuracy_score(y_test,y_pred):.3f}\")\n",
        "\n",
        "# Print Classification Report\n",
        "print(\"Classification Report\")\n",
        "print(classification_report(y_test, y_pred))\n",
        "\n",
        "# Visualise classical Confusion Matrix\n",
        "from sklearn.metrics import confusion_matrix\n",
        "CM = confusion_matrix(y_test, y_pred, labels=lbw_labels)\n",
        "\n",
        "cm_df = pd.DataFrame(CM, \n",
        "                     index = [\"Actual 1\", \"Actual 2\", \"Actual 3\",  \"Actual 4\", \"Actual 5\"],\n",
        "                     columns= [\"Predicted 1\", \"Predicted 2\", \"Predicted 3\", \"Predicted 4\", \"Predicted 5\"])\n",
        "cm_df"
      ],
      "execution_count": 11,
      "outputs": [
        {
          "output_type": "stream",
          "text": [
            "Random forest predictive accuracy: 0.666\n",
            "Classification Report\n",
            "              precision    recall  f1-score   support\n",
            "\n",
            "           1       0.13      0.03      0.04       151\n",
            "           2       0.71      0.90      0.79      1315\n",
            "           3       0.43      0.22      0.30       441\n",
            "           4       0.20      0.05      0.08        20\n",
            "           5       0.00      0.00      0.00         1\n",
            "\n",
            "    accuracy                           0.67      1928\n",
            "   macro avg       0.30      0.24      0.24      1928\n",
            "weighted avg       0.60      0.67      0.61      1928\n",
            "\n"
          ],
          "name": "stdout"
        },
        {
          "output_type": "stream",
          "text": [
            "/usr/local/lib/python3.7/dist-packages/sklearn/metrics/_classification.py:1272: UndefinedMetricWarning: Precision and F-score are ill-defined and being set to 0.0 in labels with no predicted samples. Use `zero_division` parameter to control this behavior.\n",
            "  _warn_prf(average, modifier, msg_start, len(result))\n"
          ],
          "name": "stderr"
        },
        {
          "output_type": "execute_result",
          "data": {
            "text/html": [
              "<div>\n",
              "<style scoped>\n",
              "    .dataframe tbody tr th:only-of-type {\n",
              "        vertical-align: middle;\n",
              "    }\n",
              "\n",
              "    .dataframe tbody tr th {\n",
              "        vertical-align: top;\n",
              "    }\n",
              "\n",
              "    .dataframe thead th {\n",
              "        text-align: right;\n",
              "    }\n",
              "</style>\n",
              "<table border=\"1\" class=\"dataframe\">\n",
              "  <thead>\n",
              "    <tr style=\"text-align: right;\">\n",
              "      <th></th>\n",
              "      <th>Predicted 1</th>\n",
              "      <th>Predicted 2</th>\n",
              "      <th>Predicted 3</th>\n",
              "      <th>Predicted 4</th>\n",
              "      <th>Predicted 5</th>\n",
              "    </tr>\n",
              "  </thead>\n",
              "  <tbody>\n",
              "    <tr>\n",
              "      <th>Actual 1</th>\n",
              "      <td>4</td>\n",
              "      <td>136</td>\n",
              "      <td>11</td>\n",
              "      <td>0</td>\n",
              "      <td>0</td>\n",
              "    </tr>\n",
              "    <tr>\n",
              "      <th>Actual 2</th>\n",
              "      <td>21</td>\n",
              "      <td>1181</td>\n",
              "      <td>110</td>\n",
              "      <td>3</td>\n",
              "      <td>0</td>\n",
              "    </tr>\n",
              "    <tr>\n",
              "      <th>Actual 3</th>\n",
              "      <td>5</td>\n",
              "      <td>336</td>\n",
              "      <td>99</td>\n",
              "      <td>1</td>\n",
              "      <td>0</td>\n",
              "    </tr>\n",
              "    <tr>\n",
              "      <th>Actual 4</th>\n",
              "      <td>0</td>\n",
              "      <td>11</td>\n",
              "      <td>8</td>\n",
              "      <td>1</td>\n",
              "      <td>0</td>\n",
              "    </tr>\n",
              "    <tr>\n",
              "      <th>Actual 5</th>\n",
              "      <td>0</td>\n",
              "      <td>1</td>\n",
              "      <td>0</td>\n",
              "      <td>0</td>\n",
              "      <td>0</td>\n",
              "    </tr>\n",
              "  </tbody>\n",
              "</table>\n",
              "</div>"
            ],
            "text/plain": [
              "          Predicted 1  Predicted 2  Predicted 3  Predicted 4  Predicted 5\n",
              "Actual 1            4          136           11            0            0\n",
              "Actual 2           21         1181          110            3            0\n",
              "Actual 3            5          336           99            1            0\n",
              "Actual 4            0           11            8            1            0\n",
              "Actual 5            0            1            0            0            0"
            ]
          },
          "metadata": {
            "tags": []
          },
          "execution_count": 11
        }
      ]
    },
    {
      "cell_type": "code",
      "metadata": {
        "colab": {
          "base_uri": "https://localhost:8080/",
          "height": 342
        },
        "id": "Z77CygnsXG1E",
        "outputId": "83811ce1-72a1-468d-faa0-f1e7755ef447"
      },
      "source": [
        "# Visualize it as a heatmap\n",
        "import seaborn\n",
        "seaborn.heatmap(cm_df)\n",
        "\n",
        "plt.title(\"Actual vs Predicted values\")\n",
        "plt.xlabel(\"Predicted values\")\n",
        "plt.ylabel(\"Actual values\")\n",
        "plt.show()"
      ],
      "execution_count": 12,
      "outputs": [
        {
          "output_type": "display_data",
          "data": {
            "image/png": "[encoded data removed]",
            "text/plain": [
              "<Figure size 432x288 with 2 Axes>"
            ]
          },
          "metadata": {
            "tags": [],
            "needs_background": "light"
          }
        }
      ]
    },
    {
      "cell_type": "code",
      "metadata": {
        "colab": {
          "base_uri": "https://localhost:8080/",
          "height": 518
        },
        "id": "Ye8CqlUwQYeY",
        "outputId": "19cc9b0c-0508-433c-94c1-18b21c2a4c9e"
      },
      "source": [
        "importance = rf_model.feature_importances_\n",
        "# summarize feature importance\n",
        "for i,v in enumerate(importance):\n",
        "\tprint('Feature: %0d, Score: %.5f' % (i,v))\n",
        "\n",
        "feature_names = list(X.columns.values)\n",
        "forest_importances = pd.Series(importance, index=feature_names)\n",
        "print(forest_importances)\n",
        "fig, ax = plt.subplots()\n",
        "forest_importances.plot.bar(ax=ax)\n",
        "ax.set_title(\"Feature importances\")\n",
        "ax.set_ylabel(\"Importance\")\n",
        "fig.tight_layout()"
      ],
      "execution_count": 13,
      "outputs": [
        {
          "output_type": "stream",
          "text": [
            "Feature: 0, Score: 0.09333\n",
            "Feature: 1, Score: 0.08969\n",
            "Feature: 2, Score: 0.23555\n",
            "Feature: 3, Score: 0.08077\n",
            "Feature: 4, Score: 0.25301\n",
            "Feature: 5, Score: 0.24765\n",
            "Ozone           0.093331\n",
            "PM2.5           0.089693\n",
            "Diesel PM       0.235548\n",
            "Pesticides      0.080769\n",
            "Tox. Release    0.253007\n",
            "Traffic         0.247653\n",
            "dtype: float64\n"
          ],
          "name": "stdout"
        },
        {
          "output_type": "display_data",
          "data": {
            "image/png": "[encoded data removed]",
            "text/plain": [
              "<Figure size 432x288 with 1 Axes>"
            ]
          },
          "metadata": {
            "tags": [],
            "needs_background": "light"
          }
        }
      ]
    },
    {
      "cell_type": "markdown",
      "metadata": {
        "id": "MnGMXinJ9e0E"
      },
      "source": [
        "**Cardiovascular disease** Random Forest Classifier model"
      ]
    },
    {
      "cell_type": "code",
      "metadata": {
        "colab": {
          "base_uri": "https://localhost:8080/",
          "height": 688
        },
        "id": "GS0uyjxO9eKx",
        "outputId": "1e0e56c2-1cfd-4e44-8e12-9b9f97bb16ec"
      },
      "source": [
        "X = X_air_data\n",
        "y = y_Cardiovascular_disease_binned\n",
        "\n",
        "# Split training/test datasets\n",
        "X_train, X_test, y_train, y_test = train_test_split(X, y, random_state=78)\n",
        "\n",
        "# Create a StandardScaler instance\n",
        "scaler = StandardScaler()\n",
        "# scaler = MinMaxScaler()\n",
        "# scaler = RobustScaler()\n",
        "\n",
        "\n",
        "# Fit the StandardScaler\n",
        "X_scaler = scaler.fit(X_train)\n",
        "\n",
        "# Scale the data\n",
        "X_train_scaled = X_scaler.transform(X_train)\n",
        "X_test_scaled = X_scaler.transform(X_test)\n",
        "\n",
        "# Create a random forest classifier.\n",
        "rf_model = RandomForestClassifier(n_estimators=128, random_state=78)\n",
        "\n",
        "# Fitting the model\n",
        "rf_model = rf_model.fit(X_train_scaled, y_train)\n",
        "\n",
        "# Evaluate the model\n",
        "y_pred = rf_model.predict(X_test_scaled)\n",
        "print(f\"Random forest predictive accuracy: {accuracy_score(y_test,y_pred):.3f}\")\n",
        "\n",
        "# Print Classification Report\n",
        "print(\"Classification Report\")\n",
        "print(classification_report(y_test, y_pred))\n",
        "\n",
        "# Visualise classical Confusion Matrix\n",
        "from sklearn.metrics import confusion_matrix\n",
        "CM = confusion_matrix(y_test, y_pred, labels=cvd_labels)\n",
        "\n",
        "cm_df = pd.DataFrame(CM, \n",
        "                     index = [\"Actual 1\", \"Actual 2\", \"Actual 3\",  \"Actual 4\", \"Actual 5\", \"Actual 6\", \"Actual 7\", \"Actual 8\", \"Actual 9\"],\n",
        "                     columns= [\"Predicted 1\", \"Predicted 2\", \"Predicted 3\", \"Predicted 4\", \"Predicted 5\", \"Predicted 6\", \"Predicted 7\", \"Predicted 8\", \"Predicted 9\"])\n",
        "cm_df"
      ],
      "execution_count": 14,
      "outputs": [
        {
          "output_type": "stream",
          "text": [
            "Random forest predictive accuracy: 0.599\n",
            "Classification Report\n",
            "              precision    recall  f1-score   support\n",
            "\n",
            "           1       0.00      0.00      0.00        11\n",
            "           2       0.70      0.60      0.65       439\n",
            "           3       0.58      0.70      0.63       740\n",
            "           4       0.60      0.57      0.58       516\n",
            "           5       0.51      0.38      0.43       151\n",
            "           6       0.41      0.31      0.35        48\n",
            "           7       1.00      0.20      0.33        15\n",
            "           8       0.00      0.00      0.00         3\n",
            "           9       1.00      0.20      0.33         5\n",
            "\n",
            "    accuracy                           0.60      1928\n",
            "   macro avg       0.53      0.33      0.37      1928\n",
            "weighted avg       0.60      0.60      0.59      1928\n",
            "\n"
          ],
          "name": "stdout"
        },
        {
          "output_type": "stream",
          "text": [
            "/usr/local/lib/python3.7/dist-packages/sklearn/metrics/_classification.py:1272: UndefinedMetricWarning: Precision and F-score are ill-defined and being set to 0.0 in labels with no predicted samples. Use `zero_division` parameter to control this behavior.\n",
            "  _warn_prf(average, modifier, msg_start, len(result))\n"
          ],
          "name": "stderr"
        },
        {
          "output_type": "execute_result",
          "data": {
            "text/html": [
              "<div>\n",
              "<style scoped>\n",
              "    .dataframe tbody tr th:only-of-type {\n",
              "        vertical-align: middle;\n",
              "    }\n",
              "\n",
              "    .dataframe tbody tr th {\n",
              "        vertical-align: top;\n",
              "    }\n",
              "\n",
              "    .dataframe thead th {\n",
              "        text-align: right;\n",
              "    }\n",
              "</style>\n",
              "<table border=\"1\" class=\"dataframe\">\n",
              "  <thead>\n",
              "    <tr style=\"text-align: right;\">\n",
              "      <th></th>\n",
              "      <th>Predicted 1</th>\n",
              "      <th>Predicted 2</th>\n",
              "      <th>Predicted 3</th>\n",
              "      <th>Predicted 4</th>\n",
              "      <th>Predicted 5</th>\n",
              "      <th>Predicted 6</th>\n",
              "      <th>Predicted 7</th>\n",
              "      <th>Predicted 8</th>\n",
              "      <th>Predicted 9</th>\n",
              "    </tr>\n",
              "  </thead>\n",
              "  <tbody>\n",
              "    <tr>\n",
              "      <th>Actual 1</th>\n",
              "      <td>0</td>\n",
              "      <td>10</td>\n",
              "      <td>1</td>\n",
              "      <td>0</td>\n",
              "      <td>0</td>\n",
              "      <td>0</td>\n",
              "      <td>0</td>\n",
              "      <td>0</td>\n",
              "      <td>0</td>\n",
              "    </tr>\n",
              "    <tr>\n",
              "      <th>Actual 2</th>\n",
              "      <td>1</td>\n",
              "      <td>265</td>\n",
              "      <td>155</td>\n",
              "      <td>16</td>\n",
              "      <td>1</td>\n",
              "      <td>1</td>\n",
              "      <td>0</td>\n",
              "      <td>0</td>\n",
              "      <td>0</td>\n",
              "    </tr>\n",
              "    <tr>\n",
              "      <th>Actual 3</th>\n",
              "      <td>0</td>\n",
              "      <td>96</td>\n",
              "      <td>521</td>\n",
              "      <td>110</td>\n",
              "      <td>9</td>\n",
              "      <td>4</td>\n",
              "      <td>0</td>\n",
              "      <td>0</td>\n",
              "      <td>0</td>\n",
              "    </tr>\n",
              "    <tr>\n",
              "      <th>Actual 4</th>\n",
              "      <td>0</td>\n",
              "      <td>6</td>\n",
              "      <td>182</td>\n",
              "      <td>293</td>\n",
              "      <td>29</td>\n",
              "      <td>6</td>\n",
              "      <td>0</td>\n",
              "      <td>0</td>\n",
              "      <td>0</td>\n",
              "    </tr>\n",
              "    <tr>\n",
              "      <th>Actual 5</th>\n",
              "      <td>0</td>\n",
              "      <td>2</td>\n",
              "      <td>33</td>\n",
              "      <td>51</td>\n",
              "      <td>57</td>\n",
              "      <td>8</td>\n",
              "      <td>0</td>\n",
              "      <td>0</td>\n",
              "      <td>0</td>\n",
              "    </tr>\n",
              "    <tr>\n",
              "      <th>Actual 6</th>\n",
              "      <td>0</td>\n",
              "      <td>1</td>\n",
              "      <td>6</td>\n",
              "      <td>15</td>\n",
              "      <td>11</td>\n",
              "      <td>15</td>\n",
              "      <td>0</td>\n",
              "      <td>0</td>\n",
              "      <td>0</td>\n",
              "    </tr>\n",
              "    <tr>\n",
              "      <th>Actual 7</th>\n",
              "      <td>0</td>\n",
              "      <td>0</td>\n",
              "      <td>3</td>\n",
              "      <td>3</td>\n",
              "      <td>4</td>\n",
              "      <td>2</td>\n",
              "      <td>3</td>\n",
              "      <td>0</td>\n",
              "      <td>0</td>\n",
              "    </tr>\n",
              "    <tr>\n",
              "      <th>Actual 8</th>\n",
              "      <td>0</td>\n",
              "      <td>0</td>\n",
              "      <td>2</td>\n",
              "      <td>1</td>\n",
              "      <td>0</td>\n",
              "      <td>0</td>\n",
              "      <td>0</td>\n",
              "      <td>0</td>\n",
              "      <td>0</td>\n",
              "    </tr>\n",
              "    <tr>\n",
              "      <th>Actual 9</th>\n",
              "      <td>0</td>\n",
              "      <td>0</td>\n",
              "      <td>2</td>\n",
              "      <td>0</td>\n",
              "      <td>1</td>\n",
              "      <td>1</td>\n",
              "      <td>0</td>\n",
              "      <td>0</td>\n",
              "      <td>1</td>\n",
              "    </tr>\n",
              "  </tbody>\n",
              "</table>\n",
              "</div>"
            ],
            "text/plain": [
              "          Predicted 1  Predicted 2  ...  Predicted 8  Predicted 9\n",
              "Actual 1            0           10  ...            0            0\n",
              "Actual 2            1          265  ...            0            0\n",
              "Actual 3            0           96  ...            0            0\n",
              "Actual 4            0            6  ...            0            0\n",
              "Actual 5            0            2  ...            0            0\n",
              "Actual 6            0            1  ...            0            0\n",
              "Actual 7            0            0  ...            0            0\n",
              "Actual 8            0            0  ...            0            0\n",
              "Actual 9            0            0  ...            0            1\n",
              "\n",
              "[9 rows x 9 columns]"
            ]
          },
          "metadata": {
            "tags": []
          },
          "execution_count": 14
        }
      ]
    },
    {
      "cell_type": "code",
      "metadata": {
        "colab": {
          "base_uri": "https://localhost:8080/",
          "height": 342
        },
        "id": "fbPAXGqSZgNW",
        "outputId": "447f91e3-31d5-4a53-99d4-b4030d6531bd"
      },
      "source": [
        "# Visualize it as a heatmap\n",
        "import seaborn\n",
        "seaborn.heatmap(cm_df)\n",
        "\n",
        "plt.title(\"Actual vs Predicted values\")\n",
        "plt.xlabel(\"Predicted values\")\n",
        "plt.ylabel(\"Actual values\")\n",
        "plt.show()"
      ],
      "execution_count": 15,
      "outputs": [
        {
          "output_type": "display_data",
          "data": {
            "image/png": "[encoded data removed]",
            "text/plain": [
              "<Figure size 432x288 with 2 Axes>"
            ]
          },
          "metadata": {
            "tags": [],
            "needs_background": "light"
          }
        }
      ]
    },
    {
      "cell_type": "code",
      "metadata": {
        "colab": {
          "base_uri": "https://localhost:8080/",
          "height": 518
        },
        "id": "7Ed6jTOFQaB3",
        "outputId": "394aefc3-e7cc-47f8-81f6-a6f9c6451b36"
      },
      "source": [
        "importance = rf_model.feature_importances_\n",
        "# summarize feature importance\n",
        "for i,v in enumerate(importance):\n",
        "\tprint('Feature: %0d, Score: %.5f' % (i,v))\n",
        "\n",
        "feature_names = list(X.columns.values)\n",
        "forest_importances = pd.Series(importance, index=feature_names)\n",
        "print(forest_importances)\n",
        "fig, ax = plt.subplots()\n",
        "forest_importances.plot.bar(ax=ax)\n",
        "ax.set_title(\"Feature importances\")\n",
        "ax.set_ylabel(\"Importance\")\n",
        "fig.tight_layout()"
      ],
      "execution_count": 16,
      "outputs": [
        {
          "output_type": "stream",
          "text": [
            "Feature: 0, Score: 0.12797\n",
            "Feature: 1, Score: 0.11727\n",
            "Feature: 2, Score: 0.21801\n",
            "Feature: 3, Score: 0.07881\n",
            "Feature: 4, Score: 0.25492\n",
            "Feature: 5, Score: 0.20301\n",
            "Ozone           0.127968\n",
            "PM2.5           0.117272\n",
            "Diesel PM       0.218013\n",
            "Pesticides      0.078813\n",
            "Tox. Release    0.254923\n",
            "Traffic         0.203010\n",
            "dtype: float64\n"
          ],
          "name": "stdout"
        },
        {
          "output_type": "display_data",
          "data": {
            "image/png": "[encoded data removed]",
            "text/plain": [
              "<Figure size 432x288 with 1 Axes>"
            ]
          },
          "metadata": {
            "tags": [],
            "needs_background": "light"
          }
        }
      ]
    },
    {
      "cell_type": "markdown",
      "metadata": {
        "id": "sprObC78-Fxx"
      },
      "source": [
        "**Poverty** Random Forest Classifier model\n"
      ]
    },
    {
      "cell_type": "code",
      "metadata": {
        "colab": {
          "base_uri": "https://localhost:8080/",
          "height": 442
        },
        "id": "SeaDwK96-PhG",
        "outputId": "af569f16-9ee0-4a33-da58-48874c0d6375"
      },
      "source": [
        "X = X_air_data\n",
        "y = y_Poverty_binned\n",
        "\n",
        "# Split training/test datasets\n",
        "X_train, X_test, y_train, y_test = train_test_split(X, y, random_state=78)\n",
        "\n",
        "# Create a StandardScaler instance\n",
        "scaler = StandardScaler()\n",
        "# scaler = MinMaxScaler()\n",
        "# scaler = RobustScaler()\n",
        "\n",
        "\n",
        "# Fit the StandardScaler\n",
        "X_scaler = scaler.fit(X_train)\n",
        "\n",
        "# Scale the data\n",
        "X_train_scaled = X_scaler.transform(X_train)\n",
        "X_test_scaled = X_scaler.transform(X_test)\n",
        "\n",
        "# Create a random forest classifier.\n",
        "rf_model = RandomForestClassifier(n_estimators=128, random_state=78)\n",
        "\n",
        "# Fitting the model\n",
        "rf_model = rf_model.fit(X_train_scaled, y_train)\n",
        "\n",
        "# Evaluate the model\n",
        "y_pred = rf_model.predict(X_test_scaled)\n",
        "print(f\"Random forest predictive accuracy: {accuracy_score(y_test,y_pred):.3f}\")\n",
        "\n",
        "# Print Classification Report\n",
        "print(\"Classification Report\")\n",
        "print(classification_report(y_test, y_pred))\n",
        "\n",
        "# Visualise classical Confusion Matrix\n",
        "from sklearn.metrics import confusion_matrix\n",
        "CM = confusion_matrix(y_test, y_pred, labels=poverty_labels)\n",
        "\n",
        "cm_df = pd.DataFrame(CM, \n",
        "                     index = [\"Actual 1\", \"Actual 2\", \"Actual 3\",  \"Actual 4\", \"Actual 5\"],\n",
        "                     columns= [\"Predicted 1\", \"Predicted 2\", \"Predicted 3\", \"Predicted 4\", \"Predicted 5\"])\n",
        "cm_df"
      ],
      "execution_count": 17,
      "outputs": [
        {
          "output_type": "stream",
          "text": [
            "Random forest predictive accuracy: 0.493\n",
            "Classification Report\n",
            "              precision    recall  f1-score   support\n",
            "\n",
            "           1       0.62      0.63      0.62       492\n",
            "           2       0.47      0.51      0.49       644\n",
            "           3       0.44      0.39      0.41       513\n",
            "           4       0.44      0.42      0.43       259\n",
            "           5       0.12      0.15      0.13        20\n",
            "\n",
            "    accuracy                           0.49      1928\n",
            "   macro avg       0.42      0.42      0.42      1928\n",
            "weighted avg       0.49      0.49      0.49      1928\n",
            "\n"
          ],
          "name": "stdout"
        },
        {
          "output_type": "execute_result",
          "data": {
            "text/html": [
              "<div>\n",
              "<style scoped>\n",
              "    .dataframe tbody tr th:only-of-type {\n",
              "        vertical-align: middle;\n",
              "    }\n",
              "\n",
              "    .dataframe tbody tr th {\n",
              "        vertical-align: top;\n",
              "    }\n",
              "\n",
              "    .dataframe thead th {\n",
              "        text-align: right;\n",
              "    }\n",
              "</style>\n",
              "<table border=\"1\" class=\"dataframe\">\n",
              "  <thead>\n",
              "    <tr style=\"text-align: right;\">\n",
              "      <th></th>\n",
              "      <th>Predicted 1</th>\n",
              "      <th>Predicted 2</th>\n",
              "      <th>Predicted 3</th>\n",
              "      <th>Predicted 4</th>\n",
              "      <th>Predicted 5</th>\n",
              "    </tr>\n",
              "  </thead>\n",
              "  <tbody>\n",
              "    <tr>\n",
              "      <th>Actual 1</th>\n",
              "      <td>311</td>\n",
              "      <td>146</td>\n",
              "      <td>28</td>\n",
              "      <td>6</td>\n",
              "      <td>1</td>\n",
              "    </tr>\n",
              "    <tr>\n",
              "      <th>Actual 2</th>\n",
              "      <td>149</td>\n",
              "      <td>329</td>\n",
              "      <td>126</td>\n",
              "      <td>38</td>\n",
              "      <td>2</td>\n",
              "    </tr>\n",
              "    <tr>\n",
              "      <th>Actual 3</th>\n",
              "      <td>38</td>\n",
              "      <td>183</td>\n",
              "      <td>199</td>\n",
              "      <td>90</td>\n",
              "      <td>3</td>\n",
              "    </tr>\n",
              "    <tr>\n",
              "      <th>Actual 4</th>\n",
              "      <td>7</td>\n",
              "      <td>40</td>\n",
              "      <td>87</td>\n",
              "      <td>109</td>\n",
              "      <td>16</td>\n",
              "    </tr>\n",
              "    <tr>\n",
              "      <th>Actual 5</th>\n",
              "      <td>0</td>\n",
              "      <td>2</td>\n",
              "      <td>9</td>\n",
              "      <td>6</td>\n",
              "      <td>3</td>\n",
              "    </tr>\n",
              "  </tbody>\n",
              "</table>\n",
              "</div>"
            ],
            "text/plain": [
              "          Predicted 1  Predicted 2  Predicted 3  Predicted 4  Predicted 5\n",
              "Actual 1          311          146           28            6            1\n",
              "Actual 2          149          329          126           38            2\n",
              "Actual 3           38          183          199           90            3\n",
              "Actual 4            7           40           87          109           16\n",
              "Actual 5            0            2            9            6            3"
            ]
          },
          "metadata": {
            "tags": []
          },
          "execution_count": 17
        }
      ]
    },
    {
      "cell_type": "code",
      "metadata": {
        "colab": {
          "base_uri": "https://localhost:8080/",
          "height": 342
        },
        "id": "TpW2kUgOZj0f",
        "outputId": "0b34809f-ee07-48b4-8fcb-070aa5c1da30"
      },
      "source": [
        "# Visualize it as a heatmap\n",
        "import seaborn\n",
        "seaborn.heatmap(cm_df)\n",
        "\n",
        "plt.title(\"Actual vs Predicted values\")\n",
        "plt.xlabel(\"Predicted values\")\n",
        "plt.ylabel(\"Actual values\")\n",
        "plt.show()"
      ],
      "execution_count": 18,
      "outputs": [
        {
          "output_type": "display_data",
          "data": {
            "image/png": "[encoded data removed]",
            "text/plain": [
              "<Figure size 432x288 with 2 Axes>"
            ]
          },
          "metadata": {
            "tags": [],
            "needs_background": "light"
          }
        }
      ]
    },
    {
      "cell_type": "code",
      "metadata": {
        "colab": {
          "base_uri": "https://localhost:8080/",
          "height": 518
        },
        "id": "rEVUvkUpQbq-",
        "outputId": "970cb4b9-c59a-4a57-a9bc-5e1a1e8ee2b2"
      },
      "source": [
        "importance = rf_model.feature_importances_\n",
        "# summarize feature importance\n",
        "for i,v in enumerate(importance):\n",
        "\tprint('Feature: %0d, Score: %.5f' % (i,v))\n",
        "\n",
        "feature_names = list(X.columns.values)\n",
        "forest_importances = pd.Series(importance, index=feature_names)\n",
        "print(forest_importances)\n",
        "fig, ax = plt.subplots()\n",
        "forest_importances.plot.bar(ax=ax)\n",
        "ax.set_title(\"Feature importances\")\n",
        "ax.set_ylabel(\"Importance\")\n",
        "fig.tight_layout()"
      ],
      "execution_count": 19,
      "outputs": [
        {
          "output_type": "stream",
          "text": [
            "Feature: 0, Score: 0.10355\n",
            "Feature: 1, Score: 0.10631\n",
            "Feature: 2, Score: 0.23276\n",
            "Feature: 3, Score: 0.08128\n",
            "Feature: 4, Score: 0.25402\n",
            "Feature: 5, Score: 0.22208\n",
            "Ozone           0.103552\n",
            "PM2.5           0.106311\n",
            "Diesel PM       0.232761\n",
            "Pesticides      0.081281\n",
            "Tox. Release    0.254015\n",
            "Traffic         0.222080\n",
            "dtype: float64\n"
          ],
          "name": "stdout"
        },
        {
          "output_type": "display_data",
          "data": {
            "image/png": "[encoded data removed]",
            "text/plain": [
              "<Figure size 432x288 with 1 Axes>"
            ]
          },
          "metadata": {
            "tags": [],
            "needs_background": "light"
          }
        }
      ]
    },
    {
      "cell_type": "markdown",
      "metadata": {
        "id": "qAOMwuF4-SdL"
      },
      "source": [
        "**Unemployment** Random Forest Classifier model"
      ]
    },
    {
      "cell_type": "code",
      "metadata": {
        "colab": {
          "base_uri": "https://localhost:8080/",
          "height": 490
        },
        "id": "PNQ2jA5t-aIf",
        "outputId": "c044b8a4-469e-4a98-f4cd-72495f535344"
      },
      "source": [
        "X = X_air_data\n",
        "y = y_Unemployment_binned\n",
        "\n",
        "# Split training/test datasets\n",
        "X_train, X_test, y_train, y_test = train_test_split(X, y, random_state=78)\n",
        "\n",
        "# Create a StandardScaler instance\n",
        "scaler = StandardScaler()\n",
        "# scaler = MinMaxScaler()\n",
        "# scaler = RobustScaler()\n",
        "\n",
        "\n",
        "# Fit the StandardScaler\n",
        "X_scaler = scaler.fit(X_train)\n",
        "\n",
        "# Scale the data\n",
        "X_train_scaled = X_scaler.transform(X_train)\n",
        "X_test_scaled = X_scaler.transform(X_test)\n",
        "\n",
        "# Create a random forest classifier.\n",
        "rf_model = RandomForestClassifier(n_estimators=128, random_state=78)\n",
        "\n",
        "# Fitting the model\n",
        "rf_model = rf_model.fit(X_train_scaled, y_train)\n",
        "\n",
        "# Evaluate the model\n",
        "y_pred = rf_model.predict(X_test_scaled)\n",
        "print(f\"Random forest predictive accuracy: {accuracy_score(y_test,y_pred):.3f}\")\n",
        "\n",
        "# Print Classification Report\n",
        "print(\"Classification Report\")\n",
        "print(classification_report(y_test, y_pred))\n",
        "\n",
        "# Visualise classical Confusion Matrix\n",
        "from sklearn.metrics import confusion_matrix\n",
        "CM = confusion_matrix(y_test, y_pred, labels=ue_labels)\n",
        "\n",
        "cm_df = pd.DataFrame(CM, \n",
        "                     index = [\"Actual 1\", \"Actual 2\", \"Actual 3\",  \"Actual 4\", \"Actual 5\", \"Actual 6\"],\n",
        "                     columns= [\"Predicted 1\", \"Predicted 2\", \"Predicted 3\", \"Predicted 4\", \"Predicted 5\", \"Predicted 6\"])\n",
        "cm_df"
      ],
      "execution_count": 20,
      "outputs": [
        {
          "output_type": "stream",
          "text": [
            "Random forest predictive accuracy: 0.442\n",
            "Classification Report\n",
            "              precision    recall  f1-score   support\n",
            "\n",
            "           1       0.28      0.14      0.19       230\n",
            "           2       0.53      0.65      0.59       867\n",
            "           3       0.36      0.37      0.36       530\n",
            "           4       0.32      0.23      0.27       226\n",
            "           5       0.20      0.12      0.15        59\n",
            "           6       0.00      0.00      0.00        16\n",
            "\n",
            "    accuracy                           0.44      1928\n",
            "   macro avg       0.28      0.25      0.26      1928\n",
            "weighted avg       0.42      0.44      0.42      1928\n",
            "\n"
          ],
          "name": "stdout"
        },
        {
          "output_type": "execute_result",
          "data": {
            "text/html": [
              "<div>\n",
              "<style scoped>\n",
              "    .dataframe tbody tr th:only-of-type {\n",
              "        vertical-align: middle;\n",
              "    }\n",
              "\n",
              "    .dataframe tbody tr th {\n",
              "        vertical-align: top;\n",
              "    }\n",
              "\n",
              "    .dataframe thead th {\n",
              "        text-align: right;\n",
              "    }\n",
              "</style>\n",
              "<table border=\"1\" class=\"dataframe\">\n",
              "  <thead>\n",
              "    <tr style=\"text-align: right;\">\n",
              "      <th></th>\n",
              "      <th>Predicted 1</th>\n",
              "      <th>Predicted 2</th>\n",
              "      <th>Predicted 3</th>\n",
              "      <th>Predicted 4</th>\n",
              "      <th>Predicted 5</th>\n",
              "      <th>Predicted 6</th>\n",
              "    </tr>\n",
              "  </thead>\n",
              "  <tbody>\n",
              "    <tr>\n",
              "      <th>Actual 1</th>\n",
              "      <td>33</td>\n",
              "      <td>165</td>\n",
              "      <td>29</td>\n",
              "      <td>2</td>\n",
              "      <td>0</td>\n",
              "      <td>1</td>\n",
              "    </tr>\n",
              "    <tr>\n",
              "      <th>Actual 2</th>\n",
              "      <td>70</td>\n",
              "      <td>566</td>\n",
              "      <td>196</td>\n",
              "      <td>31</td>\n",
              "      <td>4</td>\n",
              "      <td>0</td>\n",
              "    </tr>\n",
              "    <tr>\n",
              "      <th>Actual 3</th>\n",
              "      <td>14</td>\n",
              "      <td>252</td>\n",
              "      <td>195</td>\n",
              "      <td>58</td>\n",
              "      <td>8</td>\n",
              "      <td>3</td>\n",
              "    </tr>\n",
              "    <tr>\n",
              "      <th>Actual 4</th>\n",
              "      <td>1</td>\n",
              "      <td>63</td>\n",
              "      <td>95</td>\n",
              "      <td>52</td>\n",
              "      <td>14</td>\n",
              "      <td>1</td>\n",
              "    </tr>\n",
              "    <tr>\n",
              "      <th>Actual 5</th>\n",
              "      <td>0</td>\n",
              "      <td>12</td>\n",
              "      <td>26</td>\n",
              "      <td>13</td>\n",
              "      <td>7</td>\n",
              "      <td>1</td>\n",
              "    </tr>\n",
              "    <tr>\n",
              "      <th>Actual 6</th>\n",
              "      <td>0</td>\n",
              "      <td>5</td>\n",
              "      <td>4</td>\n",
              "      <td>5</td>\n",
              "      <td>2</td>\n",
              "      <td>0</td>\n",
              "    </tr>\n",
              "  </tbody>\n",
              "</table>\n",
              "</div>"
            ],
            "text/plain": [
              "          Predicted 1  Predicted 2  ...  Predicted 5  Predicted 6\n",
              "Actual 1           33          165  ...            0            1\n",
              "Actual 2           70          566  ...            4            0\n",
              "Actual 3           14          252  ...            8            3\n",
              "Actual 4            1           63  ...           14            1\n",
              "Actual 5            0           12  ...            7            1\n",
              "Actual 6            0            5  ...            2            0\n",
              "\n",
              "[6 rows x 6 columns]"
            ]
          },
          "metadata": {
            "tags": []
          },
          "execution_count": 20
        }
      ]
    },
    {
      "cell_type": "code",
      "metadata": {
        "colab": {
          "base_uri": "https://localhost:8080/",
          "height": 342
        },
        "id": "8ZoLzURpZmJC",
        "outputId": "c98887e6-51b0-4c3a-ad05-892bf1700896"
      },
      "source": [
        "# Visualize it as a heatmap\n",
        "import seaborn\n",
        "seaborn.heatmap(cm_df)\n",
        "\n",
        "plt.title(\"Actual vs Predicted values\")\n",
        "plt.xlabel(\"Predicted values\")\n",
        "plt.ylabel(\"Actual values\")\n",
        "plt.show()"
      ],
      "execution_count": 21,
      "outputs": [
        {
          "output_type": "display_data",
          "data": {
            "image/png": "[encoded data removed]",
            "text/plain": [
              "<Figure size 432x288 with 2 Axes>"
            ]
          },
          "metadata": {
            "tags": [],
            "needs_background": "light"
          }
        }
      ]
    },
    {
      "cell_type": "code",
      "metadata": {
        "colab": {
          "base_uri": "https://localhost:8080/",
          "height": 518
        },
        "id": "oayNLezYQdNa",
        "outputId": "ee1c525a-52fa-40fb-943b-451a41061342"
      },
      "source": [
        "importance = rf_model.feature_importances_\n",
        "# summarize feature importance\n",
        "for i,v in enumerate(importance):\n",
        "\tprint('Feature: %0d, Score: %.5f' % (i,v))\n",
        "\n",
        "feature_names = list(X.columns.values)\n",
        "forest_importances = pd.Series(importance, index=feature_names)\n",
        "print(forest_importances)\n",
        "fig, ax = plt.subplots()\n",
        "forest_importances.plot.bar(ax=ax)\n",
        "ax.set_title(\"Feature importances\")\n",
        "ax.set_ylabel(\"Importance\")\n",
        "fig.tight_layout()"
      ],
      "execution_count": 22,
      "outputs": [
        {
          "output_type": "stream",
          "text": [
            "Feature: 0, Score: 0.09563\n",
            "Feature: 1, Score: 0.09607\n",
            "Feature: 2, Score: 0.22432\n",
            "Feature: 3, Score: 0.08549\n",
            "Feature: 4, Score: 0.25614\n",
            "Feature: 5, Score: 0.24235\n",
            "Ozone           0.095633\n",
            "PM2.5           0.096066\n",
            "Diesel PM       0.224315\n",
            "Pesticides      0.085487\n",
            "Tox. Release    0.256143\n",
            "Traffic         0.242355\n",
            "dtype: float64\n"
          ],
          "name": "stdout"
        },
        {
          "output_type": "display_data",
          "data": {
            "image/png": "[encoded data removed]",
            "text/plain": [
              "<Figure size 432x288 with 1 Axes>"
            ]
          },
          "metadata": {
            "tags": [],
            "needs_background": "light"
          }
        }
      ]
    }
  ]
}